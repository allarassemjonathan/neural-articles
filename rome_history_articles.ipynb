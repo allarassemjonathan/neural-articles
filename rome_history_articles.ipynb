{
 "cells": [
  {
   "cell_type": "code",
   "execution_count": 32,
   "id": "1ef77679-2737-46da-bdf1-3c0762a57074",
   "metadata": {
    "tags": []
   },
   "outputs": [],
   "source": [
    "import tensorflow as tf\n",
    "import numpy as np\n",
    "import os\n",
    "import time\n",
    "import matplotlib.pyplot as plt\n",
    "import re"
   ]
  },
  {
   "cell_type": "code",
   "execution_count": 4,
   "id": "acccef76-5e52-4a80-a511-a9bd1f7079b7",
   "metadata": {
    "tags": []
   },
   "outputs": [],
   "source": [
    "text = open(r'C:\\Users\\ALLARASSEMJJ20\\big_rome.txt', 'rb').read().decode(encoding='utf-8')"
   ]
  },
  {
   "cell_type": "code",
   "execution_count": 5,
   "id": "66a7dbc5-c147-4502-b91d-c9e35bfe2908",
   "metadata": {
    "tags": []
   },
   "outputs": [
    {
     "name": "stdout",
     "output_type": "stream",
     "text": [
      "177 unique characters\n"
     ]
    }
   ],
   "source": [
    "vocab = sorted(set(text))\n",
    "print(f'{len(vocab)} unique characters')"
   ]
  },
  {
   "cell_type": "code",
   "execution_count": 9,
   "id": "9708abae-5325-4789-b3d6-35d8ed163802",
   "metadata": {
    "tags": []
   },
   "outputs": [],
   "source": [
    "vocab[:10]\n",
    "example_texts = ['I go to school', 'xyz']\n",
    "chars = tf.strings.unicode_split(example_texts, input_encoding='UTF-8')"
   ]
  },
  {
   "cell_type": "code",
   "execution_count": 10,
   "id": "33ff21c2-cc67-4219-89f9-a3355ed5c639",
   "metadata": {
    "tags": []
   },
   "outputs": [
    {
     "data": {
      "text/plain": [
       "<tf.RaggedTensor [[36, 3, 64, 72, 3, 77, 72, 3, 76, 60, 65, 72, 72, 69], [81, 82, 83]]>"
      ]
     },
     "execution_count": 10,
     "metadata": {},
     "output_type": "execute_result"
    }
   ],
   "source": [
    "ids_from_chars = tf.keras.layers.StringLookup(\n",
    "    vocabulary=list(vocab), mask_token=None)\n",
    "\n",
    "ids_from_chars(chars)"
   ]
  },
  {
   "cell_type": "code",
   "execution_count": 11,
   "id": "65494a62-f20b-4896-b59a-dc6d054c31ce",
   "metadata": {
    "tags": []
   },
   "outputs": [
    {
     "data": {
      "text/plain": [
       "<tf.Tensor: shape=(), dtype=string, numpy=b'\\xce\\xbb'>"
      ]
     },
     "execution_count": 11,
     "metadata": {},
     "output_type": "execute_result"
    }
   ],
   "source": [
    "chars_from_ids = tf.keras.layers.StringLookup(\n",
    "    vocabulary=ids_from_chars.get_vocabulary(), invert=True, mask_token=None)\n",
    "chars_from_ids(139)"
   ]
  },
  {
   "cell_type": "code",
   "execution_count": 8,
   "id": "50b8037e-8693-4dea-a092-0fd5d3ca5e62",
   "metadata": {
    "collapsed": true,
    "jupyter": {
     "outputs_hidden": true
    }
   },
   "outputs": [],
   "source": [
    "def text_from_ids(ids):\n",
    "  return tf.strings.reduce_join(chars_from_ids(ids), axis=-1)"
   ]
  },
  {
   "cell_type": "code",
   "execution_count": 9,
   "id": "2e23081e-b80c-4809-8df4-9655f1625e33",
   "metadata": {
    "collapsed": true,
    "jupyter": {
     "outputs_hidden": true
    }
   },
   "outputs": [
    {
     "data": {
      "text/plain": [
       "<tf.RaggedTensor [[b'I', b' ', b'g', b'o', b' ', b't', b'o', b' ', b's', b'c', b'h', b'o',\n",
       "  b'o', b'l']                                                            ,\n",
       " [b'x', b'y', b'z']]>"
      ]
     },
     "execution_count": 9,
     "metadata": {},
     "output_type": "execute_result"
    }
   ],
   "source": [
    "chars_from_ids(12)\n",
    "ids = ids_from_chars(chars)\n",
    "chars = chars_from_ids(ids)\n",
    "chars"
   ]
  },
  {
   "cell_type": "code",
   "execution_count": 12,
   "id": "02af137f-2680-4e33-806a-442b721ea87e",
   "metadata": {
    "tags": []
   },
   "outputs": [
    {
     "data": {
      "text/plain": [
       "<tf.Tensor: shape=(10608444,), dtype=int64, numpy=array([177,   3,   3, ...,  66,  60,  12], dtype=int64)>"
      ]
     },
     "execution_count": 12,
     "metadata": {},
     "output_type": "execute_result"
    }
   ],
   "source": [
    "all_chars = tf.strings.unicode_split(text, input_encoding='UTF-8')\n",
    "all_ids = ids_from_chars(all_chars)\n",
    "all_ids"
   ]
  },
  {
   "cell_type": "code",
   "execution_count": 13,
   "id": "337d95d8-a94b-49e0-8258-f50ad36685cf",
   "metadata": {
    "tags": []
   },
   "outputs": [],
   "source": [
    "seq_length = 200\n",
    "ids_dataset = tf.data.Dataset.from_tensor_slices(all_ids)\n",
    "sequences = ids_dataset.batch(seq_length+1, drop_remainder=True)"
   ]
  },
  {
   "cell_type": "code",
   "execution_count": 12,
   "id": "247b2edc-f559-4d11-b5ad-83754647aee4",
   "metadata": {
    "collapsed": true,
    "jupyter": {
     "outputs_hidden": true
    }
   },
   "outputs": [
    {
     "name": "stdout",
     "output_type": "stream",
     "text": [
      "﻿\n",
      " \n",
      " \n",
      " \n",
      " \n",
      " \n",
      " \n",
      "T\n",
      "h\n",
      "e\n"
     ]
    }
   ],
   "source": [
    "for ids in ids_dataset.take(10):\n",
    "    print(chars_from_ids(ids).numpy().decode('utf-8'))"
   ]
  },
  {
   "cell_type": "code",
   "execution_count": 12,
   "id": "fbfa114c-3b04-4f29-810a-37e08c13aaf4",
   "metadata": {
    "collapsed": true,
    "jupyter": {
     "outputs_hidden": true
    }
   },
   "outputs": [
    {
     "name": "stdout",
     "output_type": "stream",
     "text": [
      "tf.Tensor(\n",
      "[b'\\xef\\xbb\\xbf' b' ' b' ' b' ' b' ' b' ' b' ' b'T' b'h' b'e' b' ' b'g'\n",
      " b'r' b'e' b'a' b't' b' ' b'w' b'o' b'r' b'k' b' ' b'o' b'f' b' ' b'G'\n",
      " b'i' b'b' b'b' b'o' b'n' b' ' b'i' b's' b' ' b'i' b'n' b'd' b'i' b's'\n",
      " b'p' b'e' b'n' b's' b'a' b'b' b'l' b'e' b' ' b't' b'o' b' ' b't' b'h'\n",
      " b'e' b' ' b's' b't' b'u' b'd' b'e' b'n' b't' b' ' b'o' b'f' b'\\r' b'\\n'\n",
      " b' ' b' ' b' ' b' ' b' ' b' ' b'h' b'i' b's' b't' b'o' b'r' b'y' b'.'\n",
      " b' ' b'T' b'h' b'e' b' ' b'l' b'i' b't' b'e' b'r' b'a' b't' b'u' b'r'\n",
      " b'e' b' ' b'o' b'f' b' ' b'E' b'u' b'r' b'o' b'p' b'e' b' ' b'o' b'f'\n",
      " b'f' b'e' b'r' b's' b' ' b'n' b'o' b' ' b's' b'u' b'b' b's' b't' b'i'\n",
      " b't' b'u' b't' b'e' b' ' b'f' b'o' b'r' b' ' b'\\xe2\\x80\\x9c' b'T' b'h'\n",
      " b'e' b'\\r' b'\\n' b' ' b' ' b' ' b' ' b' ' b' ' b'D' b'e' b'c' b'l' b'i'\n",
      " b'n' b'e' b' ' b'a' b'n' b'd' b' ' b'F' b'a' b'l' b'l' b' ' b'o' b'f'\n",
      " b' ' b't' b'h' b'e' b' ' b'R' b'o' b'm' b'a' b'n' b' ' b'E' b'm' b'p'\n",
      " b'i' b'r' b'e' b'.' b'\\xe2\\x80\\x9d' b' ' b'I' b't' b' ' b'h' b'a' b's'\n",
      " b' ' b'o' b'b' b't' b'a' b'i' b'n' b'e' b'd' b' ' b'u'], shape=(201,), dtype=string)\n",
      "tf.Tensor(\n",
      "[b'n' b'd' b'i' b's' b'p' b'u' b't' b'e' b'd' b'\\r' b'\\n' b' ' b' ' b' '\n",
      " b' ' b' ' b' ' b'p' b'o' b's' b's' b'e' b's' b's' b'i' b'o' b'n' b','\n",
      " b' ' b'a' b's' b' ' b'r' b'i' b'g' b'h' b't' b'f' b'u' b'l' b' ' b'o'\n",
      " b'c' b'c' b'u' b'p' b'a' b'n' b't' b',' b' ' b'o' b'f' b' ' b't' b'h'\n",
      " b'e' b' ' b'v' b'a' b's' b't' b' ' b'p' b'e' b'r' b'i' b'o' b'd' b' '\n",
      " b'w' b'h' b'i' b'c' b'h' b' ' b'i' b't' b'\\r' b'\\n' b' ' b' ' b' ' b' '\n",
      " b' ' b' ' b'c' b'o' b'm' b'p' b'r' b'e' b'h' b'e' b'n' b'd' b's' b'.'\n",
      " b' ' b'H' b'o' b'w' b'e' b'v' b'e' b'r' b' ' b's' b'o' b'm' b'e' b' '\n",
      " b's' b'u' b'b' b'j' b'e' b'c' b't' b's' b',' b' ' b'w' b'h' b'i' b'c'\n",
      " b'h' b' ' b'i' b't' b' ' b'e' b'm' b'b' b'r' b'a' b'c' b'e' b's' b','\n",
      " b' ' b'm' b'a' b'y' b' ' b'h' b'a' b'v' b'e' b'\\r' b'\\n' b' ' b' ' b' '\n",
      " b' ' b' ' b' ' b'u' b'n' b'd' b'e' b'r' b'g' b'o' b'n' b'e' b' ' b'm'\n",
      " b'o' b'r' b'e' b' ' b'c' b'o' b'm' b'p' b'l' b'e' b't' b'e' b' ' b'i'\n",
      " b'n' b'v' b'e' b's' b't' b'i' b'g' b'a' b't' b'i' b'o' b'n' b',' b' '\n",
      " b'o' b'n' b' ' b't' b'h'], shape=(201,), dtype=string)\n"
     ]
    }
   ],
   "source": [
    "for seq in sequences.take(2):\n",
    "    print(chars_from_ids(seq))"
   ]
  },
  {
   "cell_type": "code",
   "execution_count": 14,
   "id": "962c7cc4-c808-4add-a228-43f6d5db717a",
   "metadata": {
    "tags": []
   },
   "outputs": [],
   "source": [
    "def split_input_target(sequence):\n",
    "    input_text = sequence[:-1]\n",
    "    target_text = sequence[1:]\n",
    "    return input_text, target_text\n",
    "\n",
    "dataset = sequences.map(split_input_target)"
   ]
  },
  {
   "cell_type": "code",
   "execution_count": 14,
   "id": "ab11f922-f8ee-43d1-b809-b713341c881e",
   "metadata": {
    "collapsed": true,
    "jupyter": {
     "outputs_hidden": true
    }
   },
   "outputs": [
    {
     "name": "stdout",
     "output_type": "stream",
     "text": [
      "(<tf.Tensor: shape=(200,), dtype=int64, numpy=\n",
      "array([177,   3,   3,   3,   3,   3,   3,  47,  65,  62,   3,  64,  75,\n",
      "        62,  58,  77,   3,  80,  72,  75,  68,   3,  72,  63,   3,  34,\n",
      "        66,  59,  59,  72,  71,   3,  66,  76,   3,  66,  71,  61,  66,\n",
      "        76,  73,  62,  71,  76,  58,  59,  69,  62,   3,  77,  72,   3,\n",
      "        77,  65,  62,   3,  76,  77,  78,  61,  62,  71,  77,   3,  72,\n",
      "        63,   2,   1,   3,   3,   3,   3,   3,   3,  65,  66,  76,  77,\n",
      "        72,  75,  82,  12,   3,  47,  65,  62,   3,  69,  66,  77,  62,\n",
      "        75,  58,  77,  78,  75,  62,   3,  72,  63,   3,  32,  78,  75,\n",
      "        72,  73,  62,   3,  72,  63,  63,  62,  75,  76,   3,  71,  72,\n",
      "         3,  76,  78,  59,  76,  77,  66,  77,  78,  77,  62,   3,  63,\n",
      "        72,  75,   3, 172,  47,  65,  62,   2,   1,   3,   3,   3,   3,\n",
      "         3,   3,  31,  62,  60,  69,  66,  71,  62,   3,  58,  71,  61,\n",
      "         3,  33,  58,  69,  69,   3,  72,  63,   3,  77,  65,  62,   3,\n",
      "        45,  72,  70,  58,  71,   3,  32,  70,  73,  66,  75,  62,  12,\n",
      "       173,   3,  36,  77,   3,  65,  58,  76,   3,  72,  59,  77,  58,\n",
      "        66,  71,  62,  61,   3], dtype=int64)>, <tf.Tensor: shape=(200,), dtype=int64, numpy=\n",
      "array([  3,   3,   3,   3,   3,   3,  47,  65,  62,   3,  64,  75,  62,\n",
      "        58,  77,   3,  80,  72,  75,  68,   3,  72,  63,   3,  34,  66,\n",
      "        59,  59,  72,  71,   3,  66,  76,   3,  66,  71,  61,  66,  76,\n",
      "        73,  62,  71,  76,  58,  59,  69,  62,   3,  77,  72,   3,  77,\n",
      "        65,  62,   3,  76,  77,  78,  61,  62,  71,  77,   3,  72,  63,\n",
      "         2,   1,   3,   3,   3,   3,   3,   3,  65,  66,  76,  77,  72,\n",
      "        75,  82,  12,   3,  47,  65,  62,   3,  69,  66,  77,  62,  75,\n",
      "        58,  77,  78,  75,  62,   3,  72,  63,   3,  32,  78,  75,  72,\n",
      "        73,  62,   3,  72,  63,  63,  62,  75,  76,   3,  71,  72,   3,\n",
      "        76,  78,  59,  76,  77,  66,  77,  78,  77,  62,   3,  63,  72,\n",
      "        75,   3, 172,  47,  65,  62,   2,   1,   3,   3,   3,   3,   3,\n",
      "         3,  31,  62,  60,  69,  66,  71,  62,   3,  58,  71,  61,   3,\n",
      "        33,  58,  69,  69,   3,  72,  63,   3,  77,  65,  62,   3,  45,\n",
      "        72,  70,  58,  71,   3,  32,  70,  73,  66,  75,  62,  12, 173,\n",
      "         3,  36,  77,   3,  65,  58,  76,   3,  72,  59,  77,  58,  66,\n",
      "        71,  62,  61,   3,  78], dtype=int64)>)\n",
      "(<tf.Tensor: shape=(200,), dtype=int64, numpy=\n",
      "array([71, 61, 66, 76, 73, 78, 77, 62, 61,  2,  1,  3,  3,  3,  3,  3,  3,\n",
      "       73, 72, 76, 76, 62, 76, 76, 66, 72, 71, 10,  3, 58, 76,  3, 75, 66,\n",
      "       64, 65, 77, 63, 78, 69,  3, 72, 60, 60, 78, 73, 58, 71, 77, 10,  3,\n",
      "       72, 63,  3, 77, 65, 62,  3, 79, 58, 76, 77,  3, 73, 62, 75, 66, 72,\n",
      "       61,  3, 80, 65, 66, 60, 65,  3, 66, 77,  2,  1,  3,  3,  3,  3,  3,\n",
      "        3, 60, 72, 70, 73, 75, 62, 65, 62, 71, 61, 76, 12,  3, 35, 72, 80,\n",
      "       62, 79, 62, 75,  3, 76, 72, 70, 62,  3, 76, 78, 59, 67, 62, 60, 77,\n",
      "       76, 10,  3, 80, 65, 66, 60, 65,  3, 66, 77,  3, 62, 70, 59, 75, 58,\n",
      "       60, 62, 76, 10,  3, 70, 58, 82,  3, 65, 58, 79, 62,  2,  1,  3,  3,\n",
      "        3,  3,  3,  3, 78, 71, 61, 62, 75, 64, 72, 71, 62,  3, 70, 72, 75,\n",
      "       62,  3, 60, 72, 70, 73, 69, 62, 77, 62,  3, 66, 71, 79, 62, 76, 77,\n",
      "       66, 64, 58, 77, 66, 72, 71, 10,  3, 72, 71,  3, 77], dtype=int64)>, <tf.Tensor: shape=(200,), dtype=int64, numpy=\n",
      "array([61, 66, 76, 73, 78, 77, 62, 61,  2,  1,  3,  3,  3,  3,  3,  3, 73,\n",
      "       72, 76, 76, 62, 76, 76, 66, 72, 71, 10,  3, 58, 76,  3, 75, 66, 64,\n",
      "       65, 77, 63, 78, 69,  3, 72, 60, 60, 78, 73, 58, 71, 77, 10,  3, 72,\n",
      "       63,  3, 77, 65, 62,  3, 79, 58, 76, 77,  3, 73, 62, 75, 66, 72, 61,\n",
      "        3, 80, 65, 66, 60, 65,  3, 66, 77,  2,  1,  3,  3,  3,  3,  3,  3,\n",
      "       60, 72, 70, 73, 75, 62, 65, 62, 71, 61, 76, 12,  3, 35, 72, 80, 62,\n",
      "       79, 62, 75,  3, 76, 72, 70, 62,  3, 76, 78, 59, 67, 62, 60, 77, 76,\n",
      "       10,  3, 80, 65, 66, 60, 65,  3, 66, 77,  3, 62, 70, 59, 75, 58, 60,\n",
      "       62, 76, 10,  3, 70, 58, 82,  3, 65, 58, 79, 62,  2,  1,  3,  3,  3,\n",
      "        3,  3,  3, 78, 71, 61, 62, 75, 64, 72, 71, 62,  3, 70, 72, 75, 62,\n",
      "        3, 60, 72, 70, 73, 69, 62, 77, 62,  3, 66, 71, 79, 62, 76, 77, 66,\n",
      "       64, 58, 77, 66, 72, 71, 10,  3, 72, 71,  3, 77, 65], dtype=int64)>)\n",
      "(<tf.Tensor: shape=(200,), dtype=int64, numpy=\n",
      "array([62,  3, 64, 62, 71, 62, 75, 58, 69,  3, 79, 66, 62, 80,  3, 72, 63,\n",
      "        3, 77, 65, 62,  2,  1,  3,  3,  3,  3,  3,  3, 80, 65, 72, 69, 62,\n",
      "        3, 73, 62, 75, 66, 72, 61, 10,  3, 77, 65, 66, 76,  3, 65, 66, 76,\n",
      "       77, 72, 75, 82,  3, 66, 76,  3, 77, 65, 62,  3, 76, 72, 69, 62,  3,\n",
      "       78, 71, 61, 66, 76, 73, 78, 77, 62, 61,  3, 58, 78, 77, 65, 72, 75,\n",
      "       66, 77, 82,  3, 77, 72,  2,  1,  3,  3,  3,  3,  3,  3, 80, 65, 66,\n",
      "       60, 65,  3, 58, 69, 69,  3, 61, 62, 63, 62, 75, 10,  3, 58, 71, 61,\n",
      "        3, 63, 75, 72, 70,  3, 80, 65, 66, 60, 65,  3, 63, 62, 80,  3, 58,\n",
      "       73, 73, 62, 58, 69,  3, 77, 72,  3, 77, 65, 62,  3, 72, 75, 66, 64,\n",
      "       66, 71, 58, 69,  2,  1,  3,  3,  3,  3,  3,  3, 80, 75, 66, 77, 62,\n",
      "       75, 76, 10,  3, 72, 75,  3, 77, 72,  3, 70, 72, 75, 62,  3, 70, 72,\n",
      "       61, 62, 75, 71,  3, 60, 72, 70, 73, 66, 69, 62, 75], dtype=int64)>, <tf.Tensor: shape=(200,), dtype=int64, numpy=\n",
      "array([ 3, 64, 62, 71, 62, 75, 58, 69,  3, 79, 66, 62, 80,  3, 72, 63,  3,\n",
      "       77, 65, 62,  2,  1,  3,  3,  3,  3,  3,  3, 80, 65, 72, 69, 62,  3,\n",
      "       73, 62, 75, 66, 72, 61, 10,  3, 77, 65, 66, 76,  3, 65, 66, 76, 77,\n",
      "       72, 75, 82,  3, 66, 76,  3, 77, 65, 62,  3, 76, 72, 69, 62,  3, 78,\n",
      "       71, 61, 66, 76, 73, 78, 77, 62, 61,  3, 58, 78, 77, 65, 72, 75, 66,\n",
      "       77, 82,  3, 77, 72,  2,  1,  3,  3,  3,  3,  3,  3, 80, 65, 66, 60,\n",
      "       65,  3, 58, 69, 69,  3, 61, 62, 63, 62, 75, 10,  3, 58, 71, 61,  3,\n",
      "       63, 75, 72, 70,  3, 80, 65, 66, 60, 65,  3, 63, 62, 80,  3, 58, 73,\n",
      "       73, 62, 58, 69,  3, 77, 72,  3, 77, 65, 62,  3, 72, 75, 66, 64, 66,\n",
      "       71, 58, 69,  2,  1,  3,  3,  3,  3,  3,  3, 80, 75, 66, 77, 62, 75,\n",
      "       76, 10,  3, 72, 75,  3, 77, 72,  3, 70, 72, 75, 62,  3, 70, 72, 61,\n",
      "       62, 75, 71,  3, 60, 72, 70, 73, 66, 69, 62, 75, 76], dtype=int64)>)\n",
      "(<tf.Tensor: shape=(200,), dtype=int64, numpy=\n",
      "array([12,  3, 47, 65, 62,  3, 66, 71, 65, 62, 75, 62, 71, 77,  3, 66, 71,\n",
      "       77, 62, 75, 62, 76, 77,  3, 72, 63,  2,  1,  3,  3,  3,  3,  3,  3,\n",
      "       77, 65, 62,  3, 76, 78, 59, 67, 62, 60, 77, 10,  3, 77, 65, 62,  3,\n",
      "       66, 71, 62, 81, 65, 58, 78, 76, 77, 66, 59, 69, 62,  3, 69, 58, 59,\n",
      "       72, 75,  3, 62, 70, 73, 69, 72, 82, 62, 61,  3, 78, 73, 72, 71,  3,\n",
      "       66, 77, 25,  3, 77, 65, 62,  2,  1,  3,  3,  3,  3,  3,  3, 66, 70,\n",
      "       70, 62, 71, 76, 62,  3, 60, 72, 71, 61, 62, 71, 76, 58, 77, 66, 72,\n",
      "       71,  3, 72, 63,  3, 70, 58, 77, 77, 62, 75, 25,  3, 77, 65, 62,  3,\n",
      "       69, 78, 70, 66, 71, 72, 78, 76,  3, 58, 75, 75, 58, 71, 64, 62, 70,\n",
      "       62, 71, 77, 25,  3, 77, 65, 62,  2,  1,  3,  3,  3,  3,  3,  3, 64,\n",
      "       62, 71, 62, 75, 58, 69,  3, 58, 60, 60, 78, 75, 58, 60, 82, 25,  3,\n",
      "       77, 65, 62,  3, 76, 77, 82, 69, 62, 10,  3, 80, 65], dtype=int64)>, <tf.Tensor: shape=(200,), dtype=int64, numpy=\n",
      "array([ 3, 47, 65, 62,  3, 66, 71, 65, 62, 75, 62, 71, 77,  3, 66, 71, 77,\n",
      "       62, 75, 62, 76, 77,  3, 72, 63,  2,  1,  3,  3,  3,  3,  3,  3, 77,\n",
      "       65, 62,  3, 76, 78, 59, 67, 62, 60, 77, 10,  3, 77, 65, 62,  3, 66,\n",
      "       71, 62, 81, 65, 58, 78, 76, 77, 66, 59, 69, 62,  3, 69, 58, 59, 72,\n",
      "       75,  3, 62, 70, 73, 69, 72, 82, 62, 61,  3, 78, 73, 72, 71,  3, 66,\n",
      "       77, 25,  3, 77, 65, 62,  2,  1,  3,  3,  3,  3,  3,  3, 66, 70, 70,\n",
      "       62, 71, 76, 62,  3, 60, 72, 71, 61, 62, 71, 76, 58, 77, 66, 72, 71,\n",
      "        3, 72, 63,  3, 70, 58, 77, 77, 62, 75, 25,  3, 77, 65, 62,  3, 69,\n",
      "       78, 70, 66, 71, 72, 78, 76,  3, 58, 75, 75, 58, 71, 64, 62, 70, 62,\n",
      "       71, 77, 25,  3, 77, 65, 62,  2,  1,  3,  3,  3,  3,  3,  3, 64, 62,\n",
      "       71, 62, 75, 58, 69,  3, 58, 60, 60, 78, 75, 58, 60, 82, 25,  3, 77,\n",
      "       65, 62,  3, 76, 77, 82, 69, 62, 10,  3, 80, 65, 66], dtype=int64)>)\n",
      "(<tf.Tensor: shape=(200,), dtype=int64, numpy=\n",
      "array([60, 65, 10,  3, 65, 72, 80, 62, 79, 62, 75,  3, 70, 72, 71, 72, 77,\n",
      "       72, 71, 72, 78, 76,  3, 63, 75, 72, 70,  3, 66, 77, 76,  2,  1,  3,\n",
      "        3,  3,  3,  3,  3, 78, 71, 66, 63, 72, 75, 70,  3, 76, 77, 58, 77,\n",
      "       62, 69, 66, 71, 62, 76, 76, 10,  3, 58, 71, 61,  3, 76, 72, 70, 62,\n",
      "       77, 66, 70, 62, 76,  3, 80, 62, 58, 75, 66, 76, 72, 70, 62,  3, 63,\n",
      "       75, 72, 70,  3, 66, 77, 76,  3, 62, 69, 58, 59, 72, 75, 58, 77, 62,\n",
      "        2,  1,  3,  3,  3,  3,  3,  3, 58, 75, 12, 10,  3, 66, 76,  3, 77,\n",
      "       65, 75, 72, 78, 64, 65, 72, 78, 77,  3, 79, 66, 64, 72, 75, 72, 78,\n",
      "       76, 10,  3, 58, 71, 66, 70, 58, 77, 62, 61, 10,  3, 72, 63, 77, 62,\n",
      "       71,  3, 73, 66, 60, 77, 78, 75, 62, 76, 74, 78, 62, 10,  3, 58, 69,\n",
      "       80, 58, 82, 76,  2,  1,  3,  3,  3,  3,  3,  3, 60, 72, 70, 70, 58,\n",
      "       71, 61, 76,  3, 58, 77, 77, 62, 71, 77, 66, 72, 71], dtype=int64)>, <tf.Tensor: shape=(200,), dtype=int64, numpy=\n",
      "array([65, 10,  3, 65, 72, 80, 62, 79, 62, 75,  3, 70, 72, 71, 72, 77, 72,\n",
      "       71, 72, 78, 76,  3, 63, 75, 72, 70,  3, 66, 77, 76,  2,  1,  3,  3,\n",
      "        3,  3,  3,  3, 78, 71, 66, 63, 72, 75, 70,  3, 76, 77, 58, 77, 62,\n",
      "       69, 66, 71, 62, 76, 76, 10,  3, 58, 71, 61,  3, 76, 72, 70, 62, 77,\n",
      "       66, 70, 62, 76,  3, 80, 62, 58, 75, 66, 76, 72, 70, 62,  3, 63, 75,\n",
      "       72, 70,  3, 66, 77, 76,  3, 62, 69, 58, 59, 72, 75, 58, 77, 62,  2,\n",
      "        1,  3,  3,  3,  3,  3,  3, 58, 75, 12, 10,  3, 66, 76,  3, 77, 65,\n",
      "       75, 72, 78, 64, 65, 72, 78, 77,  3, 79, 66, 64, 72, 75, 72, 78, 76,\n",
      "       10,  3, 58, 71, 66, 70, 58, 77, 62, 61, 10,  3, 72, 63, 77, 62, 71,\n",
      "        3, 73, 66, 60, 77, 78, 75, 62, 76, 74, 78, 62, 10,  3, 58, 69, 80,\n",
      "       58, 82, 76,  2,  1,  3,  3,  3,  3,  3,  3, 60, 72, 70, 70, 58, 71,\n",
      "       61, 76,  3, 58, 77, 77, 62, 71, 77, 66, 72, 71, 10], dtype=int64)>)\n"
     ]
    }
   ],
   "source": [
    "for el in dataset.take(5):\n",
    "    print(el)"
   ]
  },
  {
   "cell_type": "code",
   "execution_count": 15,
   "id": "08912599-4877-4e0b-930d-179912d27384",
   "metadata": {
    "tags": []
   },
   "outputs": [
    {
     "data": {
      "text/plain": [
       "<PrefetchDataset element_spec=(TensorSpec(shape=(300, 200), dtype=tf.int64, name=None), TensorSpec(shape=(300, 200), dtype=tf.int64, name=None))>"
      ]
     },
     "execution_count": 15,
     "metadata": {},
     "output_type": "execute_result"
    }
   ],
   "source": [
    "# Batch size\n",
    "BATCH_SIZE = 300\n",
    "\n",
    "# Buffer size to shuffle the dataset\n",
    "# (TF data is designed to work with possibly infinite sequences,\n",
    "# so it doesn't attempt to shuffle the entire sequence in memory. Instead,\n",
    "# it maintains a buffer in which it shuffles elements).\n",
    "BUFFER_SIZE = 10000\n",
    "\n",
    "dataset = (\n",
    "    dataset\n",
    "    .shuffle(BUFFER_SIZE)\n",
    "    .batch(BATCH_SIZE, drop_remainder=True)\n",
    "    .prefetch(tf.data.experimental.AUTOTUNE))\n",
    "\n",
    "dataset"
   ]
  },
  {
   "cell_type": "code",
   "execution_count": 16,
   "id": "4207f153-0c1c-4746-91da-5a264ea15d5e",
   "metadata": {
    "tags": []
   },
   "outputs": [],
   "source": [
    "# Length of the vocabulary in StringLookup Layer\n",
    "vocab_size = len(ids_from_chars.get_vocabulary())\n",
    "\n",
    "# The embedding dimension\n",
    "embedding_dim = 256\n",
    "\n",
    "# Number of RNN units\n",
    "rnn_units = 512"
   ]
  },
  {
   "cell_type": "code",
   "execution_count": 17,
   "id": "60280f8c-08f1-4b0f-994a-45922cf169e0",
   "metadata": {
    "tags": []
   },
   "outputs": [],
   "source": [
    "class MyModel(tf.keras.Model):\n",
    "    def __init__(self, vocab_size, embedding_dim, rnn_units):\n",
    "        super().__init__(self)\n",
    "        self.embedding = tf.keras.layers.Embedding(vocab_size, embedding_dim)\n",
    "        self.gru = tf.keras.layers.GRU(rnn_units,\n",
    "                                       return_sequences=True,\n",
    "                                       return_state=True)\n",
    "        self.dense = tf.keras.layers.Dense(vocab_size)\n",
    "        \n",
    "    def call(self, inputs, states=None, return_state=False, training=False):\n",
    "        x = inputs\n",
    "        x = self.embedding(x, training=training)\n",
    "        if states is None:\n",
    "            states = self.gru.get_initial_state(x)\n",
    "        x, states = self.gru(x, initial_state=states, training=training)\n",
    "        x = self.dense(x, training=training)\n",
    "\n",
    "        if return_state:\n",
    "            return x, states\n",
    "        else:\n",
    "            return x"
   ]
  },
  {
   "cell_type": "code",
   "execution_count": 18,
   "id": "24d28239-a255-4287-8d53-d0d4dbc700e4",
   "metadata": {
    "tags": []
   },
   "outputs": [],
   "source": [
    "model = MyModel(\n",
    "    vocab_size = vocab_size, \n",
    "    embedding_dim = embedding_dim, \n",
    "    rnn_units = rnn_units\n",
    ")"
   ]
  },
  {
   "cell_type": "code",
   "execution_count": null,
   "id": "4575bc76-2079-419c-8097-12d24ad6d5c8",
   "metadata": {
    "collapsed": true,
    "jupyter": {
     "outputs_hidden": true
    }
   },
   "outputs": [],
   "source": [
    "models.load_"
   ]
  },
  {
   "cell_type": "code",
   "execution_count": 19,
   "id": "8380f6ee-2f91-4b92-8cbd-f29e82bf6f78",
   "metadata": {
    "collapsed": true,
    "jupyter": {
     "outputs_hidden": true
    }
   },
   "outputs": [
    {
     "name": "stdout",
     "output_type": "stream",
     "text": [
      "(300, 200, 178) # (batch_size, sequence_length, vocab_size)\n"
     ]
    }
   ],
   "source": [
    "for input_example_batch, target_example_batch in dataset.take(1):\n",
    "    example_batch_predictions = model(input_example_batch)\n",
    "    print(example_batch_predictions.shape, \"# (batch_size, sequence_length, vocab_size)\")"
   ]
  },
  {
   "cell_type": "code",
   "execution_count": 20,
   "id": "987abda1-e3ae-4c1f-936e-1a2b12963cb6",
   "metadata": {
    "collapsed": true,
    "jupyter": {
     "outputs_hidden": true
    }
   },
   "outputs": [
    {
     "name": "stdout",
     "output_type": "stream",
     "text": [
      "Model: \"my_model\"\n",
      "_________________________________________________________________\n",
      " Layer (type)                Output Shape              Param #   \n",
      "=================================================================\n",
      " embedding (Embedding)       multiple                  45568     \n",
      "                                                                 \n",
      " gru (GRU)                   multiple                  1182720   \n",
      "                                                                 \n",
      " dense (Dense)               multiple                  91314     \n",
      "                                                                 \n",
      "=================================================================\n",
      "Total params: 1,319,602\n",
      "Trainable params: 1,319,602\n",
      "Non-trainable params: 0\n",
      "_________________________________________________________________\n"
     ]
    }
   ],
   "source": [
    "model.summary()"
   ]
  },
  {
   "cell_type": "code",
   "execution_count": 21,
   "id": "21b6c768-c6f5-437b-bc9e-54d779609b0b",
   "metadata": {
    "collapsed": true,
    "jupyter": {
     "outputs_hidden": true
    }
   },
   "outputs": [],
   "source": [
    "sampled_indices = tf.random.categorical(example_batch_predictions[0], num_samples=1)\n",
    "sampled_indices = tf.squeeze(sampled_indices, axis=-1).numpy()"
   ]
  },
  {
   "cell_type": "code",
   "execution_count": 22,
   "id": "a7916a55-9016-4c00-a607-6e21444cc8c7",
   "metadata": {
    "collapsed": true,
    "jupyter": {
     "outputs_hidden": true
    }
   },
   "outputs": [
    {
     "name": "stdout",
     "output_type": "stream",
     "text": [
      "Prediction shape:  (300, 200, 178)  # (batch_size, sequence_length, vocab_size)\n",
      "Mean loss:         tf.Tensor(5.1831093, shape=(), dtype=float32)\n"
     ]
    }
   ],
   "source": [
    "loss = tf.losses.SparseCategoricalCrossentropy(from_logits=True)\n",
    "example_batch_mean_loss = loss(target_example_batch, example_batch_predictions)\n",
    "print(\"Prediction shape: \", example_batch_predictions.shape, \" # (batch_size, sequence_length, vocab_size)\")\n",
    "print(\"Mean loss:        \", example_batch_mean_loss)"
   ]
  },
  {
   "cell_type": "code",
   "execution_count": 23,
   "id": "8a47ec42-77db-4015-87f6-9084c241cdcf",
   "metadata": {
    "collapsed": true,
    "jupyter": {
     "outputs_hidden": true
    }
   },
   "outputs": [],
   "source": [
    "model.compile(optimizer='adam', loss=loss)"
   ]
  },
  {
   "cell_type": "code",
   "execution_count": 24,
   "id": "2a554e3c-7f2b-4541-8196-96f2732e763f",
   "metadata": {
    "collapsed": true,
    "jupyter": {
     "outputs_hidden": true
    }
   },
   "outputs": [],
   "source": [
    "# Directory where the checkpoints will be saved\n",
    "checkpoint_dir = './training_checkpoints_rome'\n",
    "# Name of the checkpoint files\n",
    "checkpoint_prefix = os.path.join(checkpoint_dir, \"ckpt_{epoch}\")\n",
    "\n",
    "checkpoint_callback = tf.keras.callbacks.ModelCheckpoint(\n",
    "    filepath=checkpoint_prefix,\n",
    "    save_weights_only=True)"
   ]
  },
  {
   "cell_type": "code",
   "execution_count": 25,
   "id": "c7961cdc-61a3-45ca-8e62-7ee11556cb47",
   "metadata": {
    "collapsed": true,
    "jupyter": {
     "outputs_hidden": true
    }
   },
   "outputs": [
    {
     "data": {
      "text/plain": [
       "<__main__.MyModel at 0x1ad4c5d4af0>"
      ]
     },
     "execution_count": 25,
     "metadata": {},
     "output_type": "execute_result"
    }
   ],
   "source": [
    "model"
   ]
  },
  {
   "cell_type": "code",
   "execution_count": 27,
   "id": "d31dfae0-726a-4a73-8a8d-6e95611fb6e3",
   "metadata": {
    "collapsed": true,
    "jupyter": {
     "outputs_hidden": true
    }
   },
   "outputs": [],
   "source": [
    "EPOCHS = 100"
   ]
  },
  {
   "cell_type": "code",
   "execution_count": 28,
   "id": "43415a32-237c-48d5-b216-6c709cc75199",
   "metadata": {
    "collapsed": true,
    "jupyter": {
     "outputs_hidden": true
    }
   },
   "outputs": [
    {
     "name": "stdout",
     "output_type": "stream",
     "text": [
      "Epoch 1/100\n",
      " 39/175 [=====>........................] - ETA: 14:52 - loss: 3.6588"
     ]
    },
    {
     "ename": "KeyboardInterrupt",
     "evalue": "",
     "output_type": "error",
     "traceback": [
      "\u001b[1;31m---------------------------------------------------------------------------\u001b[0m",
      "\u001b[1;31mKeyboardInterrupt\u001b[0m                         Traceback (most recent call last)",
      "\u001b[1;32m<ipython-input-28-25e345c13e8b>\u001b[0m in \u001b[0;36m<module>\u001b[1;34m\u001b[0m\n\u001b[1;32m----> 1\u001b[1;33m \u001b[0mhistory\u001b[0m \u001b[1;33m=\u001b[0m \u001b[0mmodel\u001b[0m\u001b[1;33m.\u001b[0m\u001b[0mfit\u001b[0m\u001b[1;33m(\u001b[0m\u001b[0mdataset\u001b[0m\u001b[1;33m,\u001b[0m \u001b[0mepochs\u001b[0m\u001b[1;33m=\u001b[0m\u001b[0mEPOCHS\u001b[0m\u001b[1;33m,\u001b[0m \u001b[0mcallbacks\u001b[0m\u001b[1;33m=\u001b[0m\u001b[1;33m[\u001b[0m\u001b[0mcheckpoint_callback\u001b[0m\u001b[1;33m]\u001b[0m\u001b[1;33m)\u001b[0m\u001b[1;33m\u001b[0m\u001b[1;33m\u001b[0m\u001b[0m\n\u001b[0m",
      "\u001b[1;32m~\\AppData\\Roaming\\Python\\Python38\\site-packages\\keras\\utils\\traceback_utils.py\u001b[0m in \u001b[0;36merror_handler\u001b[1;34m(*args, **kwargs)\u001b[0m\n\u001b[0;32m     63\u001b[0m         \u001b[0mfiltered_tb\u001b[0m \u001b[1;33m=\u001b[0m \u001b[1;32mNone\u001b[0m\u001b[1;33m\u001b[0m\u001b[1;33m\u001b[0m\u001b[0m\n\u001b[0;32m     64\u001b[0m         \u001b[1;32mtry\u001b[0m\u001b[1;33m:\u001b[0m\u001b[1;33m\u001b[0m\u001b[1;33m\u001b[0m\u001b[0m\n\u001b[1;32m---> 65\u001b[1;33m             \u001b[1;32mreturn\u001b[0m \u001b[0mfn\u001b[0m\u001b[1;33m(\u001b[0m\u001b[1;33m*\u001b[0m\u001b[0margs\u001b[0m\u001b[1;33m,\u001b[0m \u001b[1;33m**\u001b[0m\u001b[0mkwargs\u001b[0m\u001b[1;33m)\u001b[0m\u001b[1;33m\u001b[0m\u001b[1;33m\u001b[0m\u001b[0m\n\u001b[0m\u001b[0;32m     66\u001b[0m         \u001b[1;32mexcept\u001b[0m \u001b[0mException\u001b[0m \u001b[1;32mas\u001b[0m \u001b[0me\u001b[0m\u001b[1;33m:\u001b[0m\u001b[1;33m\u001b[0m\u001b[1;33m\u001b[0m\u001b[0m\n\u001b[0;32m     67\u001b[0m             \u001b[0mfiltered_tb\u001b[0m \u001b[1;33m=\u001b[0m \u001b[0m_process_traceback_frames\u001b[0m\u001b[1;33m(\u001b[0m\u001b[0me\u001b[0m\u001b[1;33m.\u001b[0m\u001b[0m__traceback__\u001b[0m\u001b[1;33m)\u001b[0m\u001b[1;33m\u001b[0m\u001b[1;33m\u001b[0m\u001b[0m\n",
      "\u001b[1;32m~\\AppData\\Roaming\\Python\\Python38\\site-packages\\keras\\engine\\training.py\u001b[0m in \u001b[0;36mfit\u001b[1;34m(self, x, y, batch_size, epochs, verbose, callbacks, validation_split, validation_data, shuffle, class_weight, sample_weight, initial_epoch, steps_per_epoch, validation_steps, validation_batch_size, validation_freq, max_queue_size, workers, use_multiprocessing)\u001b[0m\n\u001b[0;32m   1648\u001b[0m                         ):\n\u001b[0;32m   1649\u001b[0m                             \u001b[0mcallbacks\u001b[0m\u001b[1;33m.\u001b[0m\u001b[0mon_train_batch_begin\u001b[0m\u001b[1;33m(\u001b[0m\u001b[0mstep\u001b[0m\u001b[1;33m)\u001b[0m\u001b[1;33m\u001b[0m\u001b[1;33m\u001b[0m\u001b[0m\n\u001b[1;32m-> 1650\u001b[1;33m                             \u001b[0mtmp_logs\u001b[0m \u001b[1;33m=\u001b[0m \u001b[0mself\u001b[0m\u001b[1;33m.\u001b[0m\u001b[0mtrain_function\u001b[0m\u001b[1;33m(\u001b[0m\u001b[0miterator\u001b[0m\u001b[1;33m)\u001b[0m\u001b[1;33m\u001b[0m\u001b[1;33m\u001b[0m\u001b[0m\n\u001b[0m\u001b[0;32m   1651\u001b[0m                             \u001b[1;32mif\u001b[0m \u001b[0mdata_handler\u001b[0m\u001b[1;33m.\u001b[0m\u001b[0mshould_sync\u001b[0m\u001b[1;33m:\u001b[0m\u001b[1;33m\u001b[0m\u001b[1;33m\u001b[0m\u001b[0m\n\u001b[0;32m   1652\u001b[0m                                 \u001b[0mcontext\u001b[0m\u001b[1;33m.\u001b[0m\u001b[0masync_wait\u001b[0m\u001b[1;33m(\u001b[0m\u001b[1;33m)\u001b[0m\u001b[1;33m\u001b[0m\u001b[1;33m\u001b[0m\u001b[0m\n",
      "\u001b[1;32m~\\AppData\\Roaming\\Python\\Python38\\site-packages\\tensorflow\\python\\util\\traceback_utils.py\u001b[0m in \u001b[0;36merror_handler\u001b[1;34m(*args, **kwargs)\u001b[0m\n\u001b[0;32m    148\u001b[0m     \u001b[0mfiltered_tb\u001b[0m \u001b[1;33m=\u001b[0m \u001b[1;32mNone\u001b[0m\u001b[1;33m\u001b[0m\u001b[1;33m\u001b[0m\u001b[0m\n\u001b[0;32m    149\u001b[0m     \u001b[1;32mtry\u001b[0m\u001b[1;33m:\u001b[0m\u001b[1;33m\u001b[0m\u001b[1;33m\u001b[0m\u001b[0m\n\u001b[1;32m--> 150\u001b[1;33m       \u001b[1;32mreturn\u001b[0m \u001b[0mfn\u001b[0m\u001b[1;33m(\u001b[0m\u001b[1;33m*\u001b[0m\u001b[0margs\u001b[0m\u001b[1;33m,\u001b[0m \u001b[1;33m**\u001b[0m\u001b[0mkwargs\u001b[0m\u001b[1;33m)\u001b[0m\u001b[1;33m\u001b[0m\u001b[1;33m\u001b[0m\u001b[0m\n\u001b[0m\u001b[0;32m    151\u001b[0m     \u001b[1;32mexcept\u001b[0m \u001b[0mException\u001b[0m \u001b[1;32mas\u001b[0m \u001b[0me\u001b[0m\u001b[1;33m:\u001b[0m\u001b[1;33m\u001b[0m\u001b[1;33m\u001b[0m\u001b[0m\n\u001b[0;32m    152\u001b[0m       \u001b[0mfiltered_tb\u001b[0m \u001b[1;33m=\u001b[0m \u001b[0m_process_traceback_frames\u001b[0m\u001b[1;33m(\u001b[0m\u001b[0me\u001b[0m\u001b[1;33m.\u001b[0m\u001b[0m__traceback__\u001b[0m\u001b[1;33m)\u001b[0m\u001b[1;33m\u001b[0m\u001b[1;33m\u001b[0m\u001b[0m\n",
      "\u001b[1;32m~\\AppData\\Roaming\\Python\\Python38\\site-packages\\tensorflow\\python\\eager\\polymorphic_function\\polymorphic_function.py\u001b[0m in \u001b[0;36m__call__\u001b[1;34m(self, *args, **kwds)\u001b[0m\n\u001b[0;32m    878\u001b[0m \u001b[1;33m\u001b[0m\u001b[0m\n\u001b[0;32m    879\u001b[0m       \u001b[1;32mwith\u001b[0m \u001b[0mOptionalXlaContext\u001b[0m\u001b[1;33m(\u001b[0m\u001b[0mself\u001b[0m\u001b[1;33m.\u001b[0m\u001b[0m_jit_compile\u001b[0m\u001b[1;33m)\u001b[0m\u001b[1;33m:\u001b[0m\u001b[1;33m\u001b[0m\u001b[1;33m\u001b[0m\u001b[0m\n\u001b[1;32m--> 880\u001b[1;33m         \u001b[0mresult\u001b[0m \u001b[1;33m=\u001b[0m \u001b[0mself\u001b[0m\u001b[1;33m.\u001b[0m\u001b[0m_call\u001b[0m\u001b[1;33m(\u001b[0m\u001b[1;33m*\u001b[0m\u001b[0margs\u001b[0m\u001b[1;33m,\u001b[0m \u001b[1;33m**\u001b[0m\u001b[0mkwds\u001b[0m\u001b[1;33m)\u001b[0m\u001b[1;33m\u001b[0m\u001b[1;33m\u001b[0m\u001b[0m\n\u001b[0m\u001b[0;32m    881\u001b[0m \u001b[1;33m\u001b[0m\u001b[0m\n\u001b[0;32m    882\u001b[0m       \u001b[0mnew_tracing_count\u001b[0m \u001b[1;33m=\u001b[0m \u001b[0mself\u001b[0m\u001b[1;33m.\u001b[0m\u001b[0mexperimental_get_tracing_count\u001b[0m\u001b[1;33m(\u001b[0m\u001b[1;33m)\u001b[0m\u001b[1;33m\u001b[0m\u001b[1;33m\u001b[0m\u001b[0m\n",
      "\u001b[1;32m~\\AppData\\Roaming\\Python\\Python38\\site-packages\\tensorflow\\python\\eager\\polymorphic_function\\polymorphic_function.py\u001b[0m in \u001b[0;36m_call\u001b[1;34m(self, *args, **kwds)\u001b[0m\n\u001b[0;32m    910\u001b[0m       \u001b[1;31m# In this case we have created variables on the first call, so we run the\u001b[0m\u001b[1;33m\u001b[0m\u001b[1;33m\u001b[0m\u001b[1;33m\u001b[0m\u001b[0m\n\u001b[0;32m    911\u001b[0m       \u001b[1;31m# defunned version which is guaranteed to never create variables.\u001b[0m\u001b[1;33m\u001b[0m\u001b[1;33m\u001b[0m\u001b[1;33m\u001b[0m\u001b[0m\n\u001b[1;32m--> 912\u001b[1;33m       \u001b[1;32mreturn\u001b[0m \u001b[0mself\u001b[0m\u001b[1;33m.\u001b[0m\u001b[0m_no_variable_creation_fn\u001b[0m\u001b[1;33m(\u001b[0m\u001b[1;33m*\u001b[0m\u001b[0margs\u001b[0m\u001b[1;33m,\u001b[0m \u001b[1;33m**\u001b[0m\u001b[0mkwds\u001b[0m\u001b[1;33m)\u001b[0m  \u001b[1;31m# pylint: disable=not-callable\u001b[0m\u001b[1;33m\u001b[0m\u001b[1;33m\u001b[0m\u001b[0m\n\u001b[0m\u001b[0;32m    913\u001b[0m     \u001b[1;32melif\u001b[0m \u001b[0mself\u001b[0m\u001b[1;33m.\u001b[0m\u001b[0m_variable_creation_fn\u001b[0m \u001b[1;32mis\u001b[0m \u001b[1;32mnot\u001b[0m \u001b[1;32mNone\u001b[0m\u001b[1;33m:\u001b[0m\u001b[1;33m\u001b[0m\u001b[1;33m\u001b[0m\u001b[0m\n\u001b[0;32m    914\u001b[0m       \u001b[1;31m# Release the lock early so that multiple threads can perform the call\u001b[0m\u001b[1;33m\u001b[0m\u001b[1;33m\u001b[0m\u001b[1;33m\u001b[0m\u001b[0m\n",
      "\u001b[1;32m~\\AppData\\Roaming\\Python\\Python38\\site-packages\\tensorflow\\python\\eager\\polymorphic_function\\tracing_compiler.py\u001b[0m in \u001b[0;36m__call__\u001b[1;34m(self, *args, **kwargs)\u001b[0m\n\u001b[0;32m    132\u001b[0m       (concrete_function,\n\u001b[0;32m    133\u001b[0m        filtered_flat_args) = self._maybe_define_function(args, kwargs)\n\u001b[1;32m--> 134\u001b[1;33m     return concrete_function._call_flat(\n\u001b[0m\u001b[0;32m    135\u001b[0m         filtered_flat_args, captured_inputs=concrete_function.captured_inputs)  # pylint: disable=protected-access\n\u001b[0;32m    136\u001b[0m \u001b[1;33m\u001b[0m\u001b[0m\n",
      "\u001b[1;32m~\\AppData\\Roaming\\Python\\Python38\\site-packages\\tensorflow\\python\\eager\\polymorphic_function\\monomorphic_function.py\u001b[0m in \u001b[0;36m_call_flat\u001b[1;34m(self, args, captured_inputs, cancellation_manager)\u001b[0m\n\u001b[0;32m   1743\u001b[0m         and executing_eagerly):\n\u001b[0;32m   1744\u001b[0m       \u001b[1;31m# No tape is watching; skip to running the function.\u001b[0m\u001b[1;33m\u001b[0m\u001b[1;33m\u001b[0m\u001b[1;33m\u001b[0m\u001b[0m\n\u001b[1;32m-> 1745\u001b[1;33m       return self._build_call_outputs(self._inference_function.call(\n\u001b[0m\u001b[0;32m   1746\u001b[0m           ctx, args, cancellation_manager=cancellation_manager))\n\u001b[0;32m   1747\u001b[0m     forward_backward = self._select_forward_and_backward_functions(\n",
      "\u001b[1;32m~\\AppData\\Roaming\\Python\\Python38\\site-packages\\tensorflow\\python\\eager\\polymorphic_function\\monomorphic_function.py\u001b[0m in \u001b[0;36mcall\u001b[1;34m(self, ctx, args, cancellation_manager)\u001b[0m\n\u001b[0;32m    376\u001b[0m       \u001b[1;32mwith\u001b[0m \u001b[0m_InterpolateFunctionError\u001b[0m\u001b[1;33m(\u001b[0m\u001b[0mself\u001b[0m\u001b[1;33m)\u001b[0m\u001b[1;33m:\u001b[0m\u001b[1;33m\u001b[0m\u001b[1;33m\u001b[0m\u001b[0m\n\u001b[0;32m    377\u001b[0m         \u001b[1;32mif\u001b[0m \u001b[0mcancellation_manager\u001b[0m \u001b[1;32mis\u001b[0m \u001b[1;32mNone\u001b[0m\u001b[1;33m:\u001b[0m\u001b[1;33m\u001b[0m\u001b[1;33m\u001b[0m\u001b[0m\n\u001b[1;32m--> 378\u001b[1;33m           outputs = execute.execute(\n\u001b[0m\u001b[0;32m    379\u001b[0m               \u001b[0mstr\u001b[0m\u001b[1;33m(\u001b[0m\u001b[0mself\u001b[0m\u001b[1;33m.\u001b[0m\u001b[0msignature\u001b[0m\u001b[1;33m.\u001b[0m\u001b[0mname\u001b[0m\u001b[1;33m)\u001b[0m\u001b[1;33m,\u001b[0m\u001b[1;33m\u001b[0m\u001b[1;33m\u001b[0m\u001b[0m\n\u001b[0;32m    380\u001b[0m               \u001b[0mnum_outputs\u001b[0m\u001b[1;33m=\u001b[0m\u001b[0mself\u001b[0m\u001b[1;33m.\u001b[0m\u001b[0m_num_outputs\u001b[0m\u001b[1;33m,\u001b[0m\u001b[1;33m\u001b[0m\u001b[1;33m\u001b[0m\u001b[0m\n",
      "\u001b[1;32m~\\AppData\\Roaming\\Python\\Python38\\site-packages\\tensorflow\\python\\eager\\execute.py\u001b[0m in \u001b[0;36mquick_execute\u001b[1;34m(op_name, num_outputs, inputs, attrs, ctx, name)\u001b[0m\n\u001b[0;32m     50\u001b[0m   \u001b[1;32mtry\u001b[0m\u001b[1;33m:\u001b[0m\u001b[1;33m\u001b[0m\u001b[1;33m\u001b[0m\u001b[0m\n\u001b[0;32m     51\u001b[0m     \u001b[0mctx\u001b[0m\u001b[1;33m.\u001b[0m\u001b[0mensure_initialized\u001b[0m\u001b[1;33m(\u001b[0m\u001b[1;33m)\u001b[0m\u001b[1;33m\u001b[0m\u001b[1;33m\u001b[0m\u001b[0m\n\u001b[1;32m---> 52\u001b[1;33m     tensors = pywrap_tfe.TFE_Py_Execute(ctx._handle, device_name, op_name,\n\u001b[0m\u001b[0;32m     53\u001b[0m                                         inputs, attrs, num_outputs)\n\u001b[0;32m     54\u001b[0m   \u001b[1;32mexcept\u001b[0m \u001b[0mcore\u001b[0m\u001b[1;33m.\u001b[0m\u001b[0m_NotOkStatusException\u001b[0m \u001b[1;32mas\u001b[0m \u001b[0me\u001b[0m\u001b[1;33m:\u001b[0m\u001b[1;33m\u001b[0m\u001b[1;33m\u001b[0m\u001b[0m\n",
      "\u001b[1;31mKeyboardInterrupt\u001b[0m: "
     ]
    }
   ],
   "source": [
    "history = model.fit(dataset, epochs=EPOCHS, callbacks=[checkpoint_callback])"
   ]
  },
  {
   "cell_type": "code",
   "execution_count": 48,
   "id": "ccd00a81-6228-4c63-b04c-f3637664fb78",
   "metadata": {
    "collapsed": true,
    "jupyter": {
     "outputs_hidden": true
    }
   },
   "outputs": [],
   "source": [
    "models = MyModel(\n",
    "    vocab_size = vocab_size, \n",
    "    embedding_dim = embedding_dim, \n",
    "    rnn_units = rnn_units\n",
    ")\n",
    "models50 = MyModel(\n",
    "    vocab_size = vocab_size, \n",
    "    embedding_dim = embedding_dim, \n",
    "    rnn_units = rnn_units\n",
    ")\n",
    "models10 = MyModel(\n",
    "    vocab_size = vocab_size, \n",
    "    embedding_dim = embedding_dim, \n",
    "    rnn_units = rnn_units\n",
    ")"
   ]
  },
  {
   "cell_type": "code",
   "execution_count": 61,
   "id": "f6bac411-7b16-4c68-a53d-6630fcc93a75",
   "metadata": {
    "collapsed": true,
    "jupyter": {
     "outputs_hidden": true
    }
   },
   "outputs": [
    {
     "data": {
      "text/plain": [
       "<tensorflow.python.checkpoint.checkpoint.CheckpointLoadStatus at 0x1ad67e89880>"
      ]
     },
     "execution_count": 61,
     "metadata": {},
     "output_type": "execute_result"
    }
   ],
   "source": [
    "latest_checkpoint = tf.train.latest_checkpoint('./training_checkpoints_rome')  # Get the path of the latest checkpoint\n",
    "models.load_weights(latest_checkpoint)"
   ]
  },
  {
   "cell_type": "code",
   "execution_count": 50,
   "id": "128cdd58-eeb5-498b-bde8-160241be002f",
   "metadata": {
    "collapsed": true,
    "jupyter": {
     "outputs_hidden": true
    }
   },
   "outputs": [
    {
     "data": {
      "text/plain": [
       "<__main__.MyModel at 0x1ad67caffa0>"
      ]
     },
     "execution_count": 50,
     "metadata": {},
     "output_type": "execute_result"
    }
   ],
   "source": [
    "models50.load_weights('./training_checkpoints_rome/ckpt_50')\n",
    "models10.load_weights('./training_checkpoints_rome/ckpt_50')"
   ]
  },
  {
   "cell_type": "code",
   "execution_count": 37,
   "id": "4a6fbcb0-dec3-4277-94bc-16ee84b480a7",
   "metadata": {
    "collapsed": true,
    "jupyter": {
     "outputs_hidden": true
    }
   },
   "outputs": [
    {
     "data": {
      "text/plain": [
       "<__main__.MyModel at 0x1ad678493a0>"
      ]
     },
     "execution_count": 37,
     "metadata": {},
     "output_type": "execute_result"
    }
   ],
   "source": [
    "models"
   ]
  },
  {
   "cell_type": "code",
   "execution_count": 19,
   "id": "8dabca47-184f-4607-802e-8aaad79d6da4",
   "metadata": {
    "tags": []
   },
   "outputs": [],
   "source": [
    "def generate_one(inputs, states, model):\n",
    "    # turn list of string into a tensorflow ragged vector\n",
    "    input_chars = tf.strings.unicode_split(inputs, 'UTF-8')\n",
    "    \n",
    "    # turn that tensorflow ragged object into a list of ids\n",
    "    input_ids = ids_from_chars(input_chars).to_tensor()\n",
    "    \n",
    "    # get the digits and the next state\n",
    "    predicted_logits, states = model(inputs=input_ids, states=states,\n",
    "                                          return_state=True)\n",
    "    \n",
    "    # pick only the last digit (batch, char, next character)\n",
    "    predicted_logits = predicted_logits[:, -1, :]\n",
    "    \n",
    "    # sample from the categorical to avoid loops \n",
    "    predicted_ids = tf.random.categorical(predicted_logits, num_samples=1)\n",
    "    predicted_ids = tf.squeeze(predicted_ids, axis=-1)\n",
    "    \n",
    "    # get list of characters from list of ids\n",
    "    predicted_chars = chars_from_ids(predicted_ids)\n",
    "    return predicted_chars, states\n",
    "\n",
    "def generate_many(seed, model, n):\n",
    "    next_char = tf.constant([seed])\n",
    "    result = [next_char]\n",
    "    states = None\n",
    "    for n in range(n):\n",
    "        next_char, states = generate_one(next_char, states, model)\n",
    "        result.append(next_char)\n",
    "    result = tf.strings.join(result)\n",
    "    return result[0].numpy().decode('utf-8')\n",
    "\n",
    "#print(generate_many('Rome is the ', models, 500))"
   ]
  },
  {
   "cell_type": "code",
   "execution_count": 20,
   "id": "b769f2e9-dd91-42cc-8678-8fc6493e557d",
   "metadata": {
    "tags": []
   },
   "outputs": [],
   "source": [
    "model50 = MyModel(\n",
    "    vocab_size = vocab_size, \n",
    "    embedding_dim = embedding_dim, \n",
    "    rnn_units = rnn_units\n",
    ")"
   ]
  },
  {
   "cell_type": "code",
   "execution_count": null,
   "id": "5295c2fd-a470-4967-a971-a94682b781f1",
   "metadata": {
    "collapsed": true,
    "jupyter": {
     "outputs_hidden": true
    }
   },
   "outputs": [],
   "source": [
    "model50 = load_weights()"
   ]
  },
  {
   "cell_type": "code",
   "execution_count": 69,
   "id": "44007cba-c934-47a5-a7e6-c65aa717f66d",
   "metadata": {
    "collapsed": true,
    "jupyter": {
     "outputs_hidden": true
    }
   },
   "outputs": [
    {
     "name": "stdout",
     "output_type": "stream",
     "text": [
      "EPOCH IS 1 :\n",
      " Rome is the seecithar obithe Meind wides  casthid dioud tir s. Ariculist the\n",
      "      Grmepar ans and tuaelest bit wabaigea daina, pereders anatisn s thawoperatulgel, of the s bompoirce Bly, he almixthe as\n",
      "      ifad the shretole: and ied  ithe Rarce ths hlatithale ppeas ceem,\n",
      "      med so mianf Hhed the thigrtas menc the shery som  re on gors torrein the  actes (ntuslcos,4”) os progat, e ded aed at prirnnan; th\n",
      "      aen) _,or tire\n",
      "      ojs\n",
      "      rutho\n",
      "      pulegicenerdrphinns expopesugns wor, vhe ja\n",
      "WARNING:tensorflow:Detecting that an object or model or tf.train.Checkpoint is being deleted with unrestored values. See the following logs for the specific values in question. To silence these warnings, use `status.expect_partial()`. See https://www.tensorflow.org/api_docs/python/tf/train/Checkpoint#restorefor details about the status object returned by the restore function.\n",
      "WARNING:tensorflow:Value in checkpoint could not be found in the restored object: (root).optimizer._iterations\n",
      "WARNING:tensorflow:Value in checkpoint could not be found in the restored object: (root).optimizer._learning_rate\n",
      "WARNING:tensorflow:Value in checkpoint could not be found in the restored object: (root).optimizer._variables.1\n",
      "WARNING:tensorflow:Value in checkpoint could not be found in the restored object: (root).optimizer._variables.2\n",
      "WARNING:tensorflow:Value in checkpoint could not be found in the restored object: (root).optimizer._variables.3\n",
      "WARNING:tensorflow:Value in checkpoint could not be found in the restored object: (root).optimizer._variables.4\n",
      "WARNING:tensorflow:Value in checkpoint could not be found in the restored object: (root).optimizer._variables.5\n",
      "WARNING:tensorflow:Value in checkpoint could not be found in the restored object: (root).optimizer._variables.6\n",
      "WARNING:tensorflow:Value in checkpoint could not be found in the restored object: (root).optimizer._variables.7\n",
      "WARNING:tensorflow:Value in checkpoint could not be found in the restored object: (root).optimizer._variables.8\n",
      "WARNING:tensorflow:Value in checkpoint could not be found in the restored object: (root).optimizer._variables.9\n",
      "WARNING:tensorflow:Value in checkpoint could not be found in the restored object: (root).optimizer._variables.10\n",
      "WARNING:tensorflow:Value in checkpoint could not be found in the restored object: (root).optimizer._variables.11\n",
      "WARNING:tensorflow:Value in checkpoint could not be found in the restored object: (root).optimizer._variables.12\n",
      "EPOCH IS 6 :\n",
      " Rome is the bornful never\n",
      "      fir miles could no complained the quast discific the appenage\n",
      "      specious populous was unknown tyrant. His imurate is\n",
      "      armied, and Nice is still native provized the satisfician legiths\n",
      "      were insplained oth obtained with instoned to the confiness\n",
      "      of consequence, (tom. ii. p. 317-500, p. 74: 30.—M.]\n",
      "\n",
      "      61 (return) [ Judicausles Challescanden, (l. xii. p. 567.]\n",
      "\n",
      "      22 (return) [ I paract in this oragen protessor; ann the freen\n",
      "      alférates,\n",
      "WARNING:tensorflow:Detecting that an object or model or tf.train.Checkpoint is being deleted with unrestored values. See the following logs for the specific values in question. To silence these warnings, use `status.expect_partial()`. See https://www.tensorflow.org/api_docs/python/tf/train/Checkpoint#restorefor details about the status object returned by the restore function.\n",
      "WARNING:tensorflow:Value in checkpoint could not be found in the restored object: (root).optimizer._iterations\n",
      "WARNING:tensorflow:Value in checkpoint could not be found in the restored object: (root).optimizer._learning_rate\n",
      "WARNING:tensorflow:Value in checkpoint could not be found in the restored object: (root).optimizer._variables.1\n",
      "WARNING:tensorflow:Value in checkpoint could not be found in the restored object: (root).optimizer._variables.2\n",
      "WARNING:tensorflow:Value in checkpoint could not be found in the restored object: (root).optimizer._variables.3\n",
      "WARNING:tensorflow:Value in checkpoint could not be found in the restored object: (root).optimizer._variables.4\n",
      "WARNING:tensorflow:Value in checkpoint could not be found in the restored object: (root).optimizer._variables.5\n",
      "WARNING:tensorflow:Value in checkpoint could not be found in the restored object: (root).optimizer._variables.6\n",
      "WARNING:tensorflow:Value in checkpoint could not be found in the restored object: (root).optimizer._variables.7\n",
      "WARNING:tensorflow:Value in checkpoint could not be found in the restored object: (root).optimizer._variables.8\n",
      "WARNING:tensorflow:Value in checkpoint could not be found in the restored object: (root).optimizer._variables.9\n",
      "WARNING:tensorflow:Value in checkpoint could not be found in the restored object: (root).optimizer._variables.10\n",
      "WARNING:tensorflow:Value in checkpoint could not be found in the restored object: (root).optimizer._variables.11\n",
      "WARNING:tensorflow:Value in checkpoint could not be found in the restored object: (root).optimizer._variables.12\n",
      "WARNING:tensorflow:Detecting that an object or model or tf.train.Checkpoint is being deleted with unrestored values. See the following logs for the specific values in question. To silence these warnings, use `status.expect_partial()`. See https://www.tensorflow.org/api_docs/python/tf/train/Checkpoint#restorefor details about the status object returned by the restore function.\n",
      "WARNING:tensorflow:Value in checkpoint could not be found in the restored object: (root).embedding.embeddings\n",
      "WARNING:tensorflow:Value in checkpoint could not be found in the restored object: (root).dense.kernel\n",
      "WARNING:tensorflow:Value in checkpoint could not be found in the restored object: (root).dense.bias\n",
      "WARNING:tensorflow:Value in checkpoint could not be found in the restored object: (root).optimizer._iterations\n",
      "WARNING:tensorflow:Value in checkpoint could not be found in the restored object: (root).optimizer._learning_rate\n",
      "WARNING:tensorflow:Value in checkpoint could not be found in the restored object: (root).gru.cell.kernel\n",
      "WARNING:tensorflow:Value in checkpoint could not be found in the restored object: (root).gru.cell.recurrent_kernel\n",
      "WARNING:tensorflow:Value in checkpoint could not be found in the restored object: (root).gru.cell.bias\n",
      "WARNING:tensorflow:Value in checkpoint could not be found in the restored object: (root).optimizer._variables.1\n",
      "WARNING:tensorflow:Value in checkpoint could not be found in the restored object: (root).optimizer._variables.2\n",
      "WARNING:tensorflow:Value in checkpoint could not be found in the restored object: (root).optimizer._variables.3\n",
      "WARNING:tensorflow:Value in checkpoint could not be found in the restored object: (root).optimizer._variables.4\n",
      "WARNING:tensorflow:Value in checkpoint could not be found in the restored object: (root).optimizer._variables.5\n",
      "WARNING:tensorflow:Value in checkpoint could not be found in the restored object: (root).optimizer._variables.6\n",
      "WARNING:tensorflow:Value in checkpoint could not be found in the restored object: (root).optimizer._variables.7\n",
      "WARNING:tensorflow:Value in checkpoint could not be found in the restored object: (root).optimizer._variables.8\n",
      "WARNING:tensorflow:Value in checkpoint could not be found in the restored object: (root).optimizer._variables.9\n",
      "WARNING:tensorflow:Value in checkpoint could not be found in the restored object: (root).optimizer._variables.10\n",
      "WARNING:tensorflow:Value in checkpoint could not be found in the restored object: (root).optimizer._variables.11\n",
      "WARNING:tensorflow:Value in checkpoint could not be found in the restored object: (root).optimizer._variables.12\n",
      "WARNING:tensorflow:Detecting that an object or model or tf.train.Checkpoint is being deleted with unrestored values. See the following logs for the specific values in question. To silence these warnings, use `status.expect_partial()`. See https://www.tensorflow.org/api_docs/python/tf/train/Checkpoint#restorefor details about the status object returned by the restore function.\n",
      "WARNING:tensorflow:Value in checkpoint could not be found in the restored object: (root).embedding.embeddings\n",
      "WARNING:tensorflow:Value in checkpoint could not be found in the restored object: (root).dense.kernel\n",
      "WARNING:tensorflow:Value in checkpoint could not be found in the restored object: (root).dense.bias\n",
      "WARNING:tensorflow:Value in checkpoint could not be found in the restored object: (root).optimizer._iterations\n",
      "WARNING:tensorflow:Value in checkpoint could not be found in the restored object: (root).optimizer._learning_rate\n",
      "WARNING:tensorflow:Value in checkpoint could not be found in the restored object: (root).gru.cell.kernel\n",
      "WARNING:tensorflow:Value in checkpoint could not be found in the restored object: (root).gru.cell.recurrent_kernel\n",
      "WARNING:tensorflow:Value in checkpoint could not be found in the restored object: (root).gru.cell.bias\n",
      "WARNING:tensorflow:Value in checkpoint could not be found in the restored object: (root).optimizer._variables.1\n",
      "WARNING:tensorflow:Value in checkpoint could not be found in the restored object: (root).optimizer._variables.2\n",
      "WARNING:tensorflow:Value in checkpoint could not be found in the restored object: (root).optimizer._variables.3\n",
      "WARNING:tensorflow:Value in checkpoint could not be found in the restored object: (root).optimizer._variables.4\n",
      "WARNING:tensorflow:Value in checkpoint could not be found in the restored object: (root).optimizer._variables.5\n",
      "WARNING:tensorflow:Value in checkpoint could not be found in the restored object: (root).optimizer._variables.6\n",
      "WARNING:tensorflow:Value in checkpoint could not be found in the restored object: (root).optimizer._variables.7\n",
      "WARNING:tensorflow:Value in checkpoint could not be found in the restored object: (root).optimizer._variables.8\n",
      "WARNING:tensorflow:Value in checkpoint could not be found in the restored object: (root).optimizer._variables.9\n",
      "WARNING:tensorflow:Value in checkpoint could not be found in the restored object: (root).optimizer._variables.10\n",
      "WARNING:tensorflow:Value in checkpoint could not be found in the restored object: (root).optimizer._variables.11\n",
      "WARNING:tensorflow:Value in checkpoint could not be found in the restored object: (root).optimizer._variables.12\n",
      "EPOCH IS 11 :\n",
      " Rome is the authority of a tradition himself, and an\n",
      "      restorator of the Roma lecripture p. 42.]\n",
      "\n",
      "      186 (return) [ Vic Willi del xviiith_ c. 106. They are advised\n",
      "      and authorities, 1086 and to still could a Duch is bring\n",
      "      stranger to the conquerors of Jahmam obeyed, Manieleutions, his dioces\n",
      "      are divided, by the marvatiss of Pergin and the country of\n",
      "      Count St. Herodota tex], uffect the vanity, they should\n",
      "      supplied the vessels of rather, the firvist of the prudectur\n",
      "WARNING:tensorflow:Detecting that an object or model or tf.train.Checkpoint is being deleted with unrestored values. See the following logs for the specific values in question. To silence these warnings, use `status.expect_partial()`. See https://www.tensorflow.org/api_docs/python/tf/train/Checkpoint#restorefor details about the status object returned by the restore function.\n",
      "WARNING:tensorflow:Value in checkpoint could not be found in the restored object: (root).optimizer._iterations\n",
      "WARNING:tensorflow:Value in checkpoint could not be found in the restored object: (root).optimizer._learning_rate\n",
      "WARNING:tensorflow:Value in checkpoint could not be found in the restored object: (root).optimizer._variables.1\n",
      "WARNING:tensorflow:Value in checkpoint could not be found in the restored object: (root).optimizer._variables.2\n",
      "WARNING:tensorflow:Value in checkpoint could not be found in the restored object: (root).optimizer._variables.3\n",
      "WARNING:tensorflow:Value in checkpoint could not be found in the restored object: (root).optimizer._variables.4\n",
      "WARNING:tensorflow:Value in checkpoint could not be found in the restored object: (root).optimizer._variables.5\n",
      "WARNING:tensorflow:Value in checkpoint could not be found in the restored object: (root).optimizer._variables.6\n",
      "WARNING:tensorflow:Value in checkpoint could not be found in the restored object: (root).optimizer._variables.7\n",
      "WARNING:tensorflow:Value in checkpoint could not be found in the restored object: (root).optimizer._variables.8\n",
      "WARNING:tensorflow:Value in checkpoint could not be found in the restored object: (root).optimizer._variables.9\n",
      "WARNING:tensorflow:Value in checkpoint could not be found in the restored object: (root).optimizer._variables.10\n",
      "WARNING:tensorflow:Value in checkpoint could not be found in the restored object: (root).optimizer._variables.11\n",
      "WARNING:tensorflow:Value in checkpoint could not be found in the restored object: (root).optimizer._variables.12\n",
      "EPOCH IS 16 :\n",
      " Rome is the younger of the Amarics; that the people “is\n",
      "      often in the midst of the people, the liberty of the nature in an\n",
      "      obstinate princely expedient of the holy monks, but his faith\n",
      "      was fairly attacked to the ships of Achy disposed a more accepted\n",
      "      and abuse or a hand. In the festival of Germolus, 48 or tow may\n",
      "      flatter the prince of the church of Shiran were a bograw than\n",
      "      in the public race, the party of Atharaineigne have been adopt\n",
      "      every neither clear, he \n",
      "WARNING:tensorflow:Detecting that an object or model or tf.train.Checkpoint is being deleted with unrestored values. See the following logs for the specific values in question. To silence these warnings, use `status.expect_partial()`. See https://www.tensorflow.org/api_docs/python/tf/train/Checkpoint#restorefor details about the status object returned by the restore function.\n",
      "WARNING:tensorflow:Value in checkpoint could not be found in the restored object: (root).optimizer._iterations\n",
      "WARNING:tensorflow:Value in checkpoint could not be found in the restored object: (root).optimizer._learning_rate\n",
      "WARNING:tensorflow:Value in checkpoint could not be found in the restored object: (root).optimizer._variables.1\n",
      "WARNING:tensorflow:Value in checkpoint could not be found in the restored object: (root).optimizer._variables.2\n",
      "WARNING:tensorflow:Value in checkpoint could not be found in the restored object: (root).optimizer._variables.3\n",
      "WARNING:tensorflow:Value in checkpoint could not be found in the restored object: (root).optimizer._variables.4\n",
      "WARNING:tensorflow:Value in checkpoint could not be found in the restored object: (root).optimizer._variables.5\n",
      "WARNING:tensorflow:Value in checkpoint could not be found in the restored object: (root).optimizer._variables.6\n",
      "WARNING:tensorflow:Value in checkpoint could not be found in the restored object: (root).optimizer._variables.7\n",
      "WARNING:tensorflow:Value in checkpoint could not be found in the restored object: (root).optimizer._variables.8\n",
      "WARNING:tensorflow:Value in checkpoint could not be found in the restored object: (root).optimizer._variables.9\n",
      "WARNING:tensorflow:Value in checkpoint could not be found in the restored object: (root).optimizer._variables.10\n",
      "WARNING:tensorflow:Value in checkpoint could not be found in the restored object: (root).optimizer._variables.11\n",
      "WARNING:tensorflow:Value in checkpoint could not be found in the restored object: (root).optimizer._variables.12\n",
      "EPOCH IS 21 :\n",
      " Rome is the obscure\n",
      "      band of either interposite, And Hathemius Pocock, &c., who, at the\n",
      "      threats of a last unwarlike ecclesiastical glories, the most\n",
      "      raptures of the respites and truth; but the mercenary of wood, a\n",
      "      martial and monasteries of the Huniades and two fortunes, 43 which\n",
      "      had been sold his sword that Impayart, Epirus destroyed by the\n",
      "      palace, and the tearts of the well mounted on a king’s faction,\n",
      "      or of the assassins. The Greeks was uniformly marquis, h\n",
      "WARNING:tensorflow:Detecting that an object or model or tf.train.Checkpoint is being deleted with unrestored values. See the following logs for the specific values in question. To silence these warnings, use `status.expect_partial()`. See https://www.tensorflow.org/api_docs/python/tf/train/Checkpoint#restorefor details about the status object returned by the restore function.\n",
      "WARNING:tensorflow:Value in checkpoint could not be found in the restored object: (root).optimizer._iterations\n",
      "WARNING:tensorflow:Value in checkpoint could not be found in the restored object: (root).optimizer._learning_rate\n",
      "WARNING:tensorflow:Value in checkpoint could not be found in the restored object: (root).optimizer._variables.1\n",
      "WARNING:tensorflow:Value in checkpoint could not be found in the restored object: (root).optimizer._variables.2\n",
      "WARNING:tensorflow:Value in checkpoint could not be found in the restored object: (root).optimizer._variables.3\n",
      "WARNING:tensorflow:Value in checkpoint could not be found in the restored object: (root).optimizer._variables.4\n",
      "WARNING:tensorflow:Value in checkpoint could not be found in the restored object: (root).optimizer._variables.5\n",
      "WARNING:tensorflow:Value in checkpoint could not be found in the restored object: (root).optimizer._variables.6\n",
      "WARNING:tensorflow:Value in checkpoint could not be found in the restored object: (root).optimizer._variables.7\n",
      "WARNING:tensorflow:Value in checkpoint could not be found in the restored object: (root).optimizer._variables.8\n",
      "WARNING:tensorflow:Value in checkpoint could not be found in the restored object: (root).optimizer._variables.9\n",
      "WARNING:tensorflow:Value in checkpoint could not be found in the restored object: (root).optimizer._variables.10\n",
      "WARNING:tensorflow:Value in checkpoint could not be found in the restored object: (root).optimizer._variables.11\n",
      "WARNING:tensorflow:Value in checkpoint could not be found in the restored object: (root).optimizer._variables.12\n",
      "EPOCH IS 26 :\n",
      " Rome is the wealth and malice\n",
      "      and edge of wine and emulation, are divided from the Romans the\n",
      "      beginning of his supply to the Cæsar; and Tyranus had been\n",
      "      suggested in the laws of course and emigration, that the nation\n",
      "      proportion of the conjugal of Prope. In the finists, and a\n",
      "      camp excepted by the creed and manners of a large situat. Hose\n",
      "      VITarians, the stately siznebt in the church, who, afforded\n",
      "      his short religion and the Turks. But ye should be copious,\n",
      "   \n",
      "WARNING:tensorflow:Detecting that an object or model or tf.train.Checkpoint is being deleted with unrestored values. See the following logs for the specific values in question. To silence these warnings, use `status.expect_partial()`. See https://www.tensorflow.org/api_docs/python/tf/train/Checkpoint#restorefor details about the status object returned by the restore function.\n",
      "WARNING:tensorflow:Value in checkpoint could not be found in the restored object: (root).optimizer._iterations\n",
      "WARNING:tensorflow:Value in checkpoint could not be found in the restored object: (root).optimizer._learning_rate\n",
      "WARNING:tensorflow:Value in checkpoint could not be found in the restored object: (root).optimizer._variables.1\n",
      "WARNING:tensorflow:Value in checkpoint could not be found in the restored object: (root).optimizer._variables.2\n",
      "WARNING:tensorflow:Value in checkpoint could not be found in the restored object: (root).optimizer._variables.3\n",
      "WARNING:tensorflow:Value in checkpoint could not be found in the restored object: (root).optimizer._variables.4\n",
      "WARNING:tensorflow:Value in checkpoint could not be found in the restored object: (root).optimizer._variables.5\n",
      "WARNING:tensorflow:Value in checkpoint could not be found in the restored object: (root).optimizer._variables.6\n",
      "WARNING:tensorflow:Value in checkpoint could not be found in the restored object: (root).optimizer._variables.7\n",
      "WARNING:tensorflow:Value in checkpoint could not be found in the restored object: (root).optimizer._variables.8\n",
      "WARNING:tensorflow:Value in checkpoint could not be found in the restored object: (root).optimizer._variables.9\n",
      "WARNING:tensorflow:Value in checkpoint could not be found in the restored object: (root).optimizer._variables.10\n",
      "WARNING:tensorflow:Value in checkpoint could not be found in the restored object: (root).optimizer._variables.11\n",
      "WARNING:tensorflow:Value in checkpoint could not be found in the restored object: (root).optimizer._variables.12\n",
      "EPOCH IS 31 :\n",
      " Rome is the city and military\n",
      "      measures of the domestics; and the state and claims, and slight\n",
      "      made without severity, in the workmanship of the circus, lasen by the\n",
      "      truth, and abhorred by the cares of ancient Greeks is required by\n",
      "      the enemies of the Arab level perpetuates, but the deserters were\n",
      "      reduced to the people, as it was thus he descrieves the Sanquis\n",
      "      Flichte and Scipion. Analy was published by Peter the First\n",
      "      Cyril Christians was gratefully, poured foo\n",
      "WARNING:tensorflow:Detecting that an object or model or tf.train.Checkpoint is being deleted with unrestored values. See the following logs for the specific values in question. To silence these warnings, use `status.expect_partial()`. See https://www.tensorflow.org/api_docs/python/tf/train/Checkpoint#restorefor details about the status object returned by the restore function.\n",
      "WARNING:tensorflow:Value in checkpoint could not be found in the restored object: (root).optimizer._iterations\n",
      "WARNING:tensorflow:Value in checkpoint could not be found in the restored object: (root).optimizer._learning_rate\n",
      "WARNING:tensorflow:Value in checkpoint could not be found in the restored object: (root).optimizer._variables.1\n",
      "WARNING:tensorflow:Value in checkpoint could not be found in the restored object: (root).optimizer._variables.2\n",
      "WARNING:tensorflow:Value in checkpoint could not be found in the restored object: (root).optimizer._variables.3\n",
      "WARNING:tensorflow:Value in checkpoint could not be found in the restored object: (root).optimizer._variables.4\n",
      "WARNING:tensorflow:Value in checkpoint could not be found in the restored object: (root).optimizer._variables.5\n",
      "WARNING:tensorflow:Value in checkpoint could not be found in the restored object: (root).optimizer._variables.6\n",
      "WARNING:tensorflow:Value in checkpoint could not be found in the restored object: (root).optimizer._variables.7\n",
      "WARNING:tensorflow:Value in checkpoint could not be found in the restored object: (root).optimizer._variables.8\n",
      "WARNING:tensorflow:Value in checkpoint could not be found in the restored object: (root).optimizer._variables.9\n",
      "WARNING:tensorflow:Value in checkpoint could not be found in the restored object: (root).optimizer._variables.10\n",
      "WARNING:tensorflow:Value in checkpoint could not be found in the restored object: (root).optimizer._variables.11\n",
      "WARNING:tensorflow:Value in checkpoint could not be found in the restored object: (root).optimizer._variables.12\n",
      "EPOCH IS 36 :\n",
      " Rome is the interest of\n",
      "      piecess or person would be the inglorious of a few wounds. If\n",
      "      was the serious heath of a labor, the ancient retreat of the\n",
      "      same war; and the persecution of the Western empire. While of one\n",
      "      military victories were led and distinguished by a veteran\n",
      "      families. Yet the national lineer quarel he had urged the Messiah,\n",
      "      into Annali d’unequal to the southern perors, they are many\n",
      "      deputing pounds in the first assurance of war and five days,\n",
      "  \n",
      "WARNING:tensorflow:Detecting that an object or model or tf.train.Checkpoint is being deleted with unrestored values. See the following logs for the specific values in question. To silence these warnings, use `status.expect_partial()`. See https://www.tensorflow.org/api_docs/python/tf/train/Checkpoint#restorefor details about the status object returned by the restore function.\n",
      "WARNING:tensorflow:Value in checkpoint could not be found in the restored object: (root).optimizer._iterations\n",
      "WARNING:tensorflow:Value in checkpoint could not be found in the restored object: (root).optimizer._learning_rate\n",
      "WARNING:tensorflow:Value in checkpoint could not be found in the restored object: (root).optimizer._variables.1\n",
      "WARNING:tensorflow:Value in checkpoint could not be found in the restored object: (root).optimizer._variables.2\n",
      "WARNING:tensorflow:Value in checkpoint could not be found in the restored object: (root).optimizer._variables.3\n",
      "WARNING:tensorflow:Value in checkpoint could not be found in the restored object: (root).optimizer._variables.4\n",
      "WARNING:tensorflow:Value in checkpoint could not be found in the restored object: (root).optimizer._variables.5\n",
      "WARNING:tensorflow:Value in checkpoint could not be found in the restored object: (root).optimizer._variables.6\n",
      "WARNING:tensorflow:Value in checkpoint could not be found in the restored object: (root).optimizer._variables.7\n",
      "WARNING:tensorflow:Value in checkpoint could not be found in the restored object: (root).optimizer._variables.8\n",
      "WARNING:tensorflow:Value in checkpoint could not be found in the restored object: (root).optimizer._variables.9\n",
      "WARNING:tensorflow:Value in checkpoint could not be found in the restored object: (root).optimizer._variables.10\n",
      "WARNING:tensorflow:Value in checkpoint could not be found in the restored object: (root).optimizer._variables.11\n",
      "WARNING:tensorflow:Value in checkpoint could not be found in the restored object: (root).optimizer._variables.12\n",
      "EPOCH IS 41 :\n",
      " Rome is the loss of their\n",
      "      races and the principalities of Asia and Orientalis; a more\n",
      "      shame of which the Franks. The last volume of the cities, are more\n",
      "      almost alive, in the rising genius of Hercules and Saracens; and\n",
      "      exhorting posterity, perhaps to solicit his lefties; and the\n",
      "      survey of Gothrae, arbit, addressed to the winter; and the\n",
      "      intercalation which mentions this honor the decay of appeals, each\n",
      "      chastity sought till the excuse an well-water declivited w\n",
      "WARNING:tensorflow:Detecting that an object or model or tf.train.Checkpoint is being deleted with unrestored values. See the following logs for the specific values in question. To silence these warnings, use `status.expect_partial()`. See https://www.tensorflow.org/api_docs/python/tf/train/Checkpoint#restorefor details about the status object returned by the restore function.\n",
      "WARNING:tensorflow:Value in checkpoint could not be found in the restored object: (root).optimizer._iterations\n",
      "WARNING:tensorflow:Value in checkpoint could not be found in the restored object: (root).optimizer._learning_rate\n",
      "WARNING:tensorflow:Value in checkpoint could not be found in the restored object: (root).optimizer._variables.1\n",
      "WARNING:tensorflow:Value in checkpoint could not be found in the restored object: (root).optimizer._variables.2\n",
      "WARNING:tensorflow:Value in checkpoint could not be found in the restored object: (root).optimizer._variables.3\n",
      "WARNING:tensorflow:Value in checkpoint could not be found in the restored object: (root).optimizer._variables.4\n",
      "WARNING:tensorflow:Value in checkpoint could not be found in the restored object: (root).optimizer._variables.5\n",
      "WARNING:tensorflow:Value in checkpoint could not be found in the restored object: (root).optimizer._variables.6\n",
      "WARNING:tensorflow:Value in checkpoint could not be found in the restored object: (root).optimizer._variables.7\n",
      "WARNING:tensorflow:Value in checkpoint could not be found in the restored object: (root).optimizer._variables.8\n",
      "WARNING:tensorflow:Value in checkpoint could not be found in the restored object: (root).optimizer._variables.9\n",
      "WARNING:tensorflow:Value in checkpoint could not be found in the restored object: (root).optimizer._variables.10\n",
      "WARNING:tensorflow:Value in checkpoint could not be found in the restored object: (root).optimizer._variables.11\n",
      "WARNING:tensorflow:Value in checkpoint could not be found in the restored object: (root).optimizer._variables.12\n",
      "EPOCH IS 46 :\n",
      " Rome is the spectators, of the ecclesiastic. Ecclesiast\n",
      "      Burgundis, p. 421.—M.]\n",
      "\n",
      "      153 (return) [ Photius (p. 135) and Ducange (Troustra en\n",
      "      pari opes robbis interesse regis totan. l. iii. c. 18, p. 408, 352)\n",
      "      who maintained this check the aid as a ranguarly exercited\n",
      "      the cause of the Koreish fire and new colonies. 42 The hermit\n",
      "      of Bacovetus, and of Bufa (Philostorg. vol. i. p. 26, 27, 36,) differ\n",
      "      this shallow papal tablet. Yet his apologist zeal over to his firs\n",
      "WARNING:tensorflow:Detecting that an object or model or tf.train.Checkpoint is being deleted with unrestored values. See the following logs for the specific values in question. To silence these warnings, use `status.expect_partial()`. See https://www.tensorflow.org/api_docs/python/tf/train/Checkpoint#restorefor details about the status object returned by the restore function.\n",
      "WARNING:tensorflow:Value in checkpoint could not be found in the restored object: (root).optimizer._iterations\n",
      "WARNING:tensorflow:Value in checkpoint could not be found in the restored object: (root).optimizer._learning_rate\n",
      "WARNING:tensorflow:Value in checkpoint could not be found in the restored object: (root).optimizer._variables.1\n",
      "WARNING:tensorflow:Value in checkpoint could not be found in the restored object: (root).optimizer._variables.2\n",
      "WARNING:tensorflow:Value in checkpoint could not be found in the restored object: (root).optimizer._variables.3\n",
      "WARNING:tensorflow:Value in checkpoint could not be found in the restored object: (root).optimizer._variables.4\n",
      "WARNING:tensorflow:Value in checkpoint could not be found in the restored object: (root).optimizer._variables.5\n",
      "WARNING:tensorflow:Value in checkpoint could not be found in the restored object: (root).optimizer._variables.6\n",
      "WARNING:tensorflow:Value in checkpoint could not be found in the restored object: (root).optimizer._variables.7\n",
      "WARNING:tensorflow:Value in checkpoint could not be found in the restored object: (root).optimizer._variables.8\n",
      "WARNING:tensorflow:Value in checkpoint could not be found in the restored object: (root).optimizer._variables.9\n",
      "WARNING:tensorflow:Value in checkpoint could not be found in the restored object: (root).optimizer._variables.10\n",
      "WARNING:tensorflow:Value in checkpoint could not be found in the restored object: (root).optimizer._variables.11\n",
      "WARNING:tensorflow:Value in checkpoint could not be found in the restored object: (root).optimizer._variables.12\n",
      "EPOCH IS 51 :\n",
      " Rome is the establishment of the dying-eather to Abdaldo a flatterious\n",
      "      patrimony: “You a pope’s less impunity fanaticism in a few a\n",
      "      conspiracy, the Bod. one of the palaces of Sebas and the\n",
      "      Boucianus, eleven, branches of ecclesiastical surroniciancy.]\n",
      "\n",
      "\n",
      "\n",
      "\n",
      "      Chapter LXV: State Ulkibringant, pray by Pope Leontius A. D. 452,\n",
      "      And ladies, under the Ardennes nearly bell inculcates, and transported\n",
      "      that bishop of Turkish sultan refuses the original\n",
      "      Cantacuzenus the\n",
      "WARNING:tensorflow:Detecting that an object or model or tf.train.Checkpoint is being deleted with unrestored values. See the following logs for the specific values in question. To silence these warnings, use `status.expect_partial()`. See https://www.tensorflow.org/api_docs/python/tf/train/Checkpoint#restorefor details about the status object returned by the restore function.\n",
      "WARNING:tensorflow:Value in checkpoint could not be found in the restored object: (root).optimizer._iterations\n",
      "WARNING:tensorflow:Value in checkpoint could not be found in the restored object: (root).optimizer._learning_rate\n",
      "WARNING:tensorflow:Value in checkpoint could not be found in the restored object: (root).optimizer._variables.1\n",
      "WARNING:tensorflow:Value in checkpoint could not be found in the restored object: (root).optimizer._variables.2\n",
      "WARNING:tensorflow:Value in checkpoint could not be found in the restored object: (root).optimizer._variables.3\n",
      "WARNING:tensorflow:Value in checkpoint could not be found in the restored object: (root).optimizer._variables.4\n",
      "WARNING:tensorflow:Value in checkpoint could not be found in the restored object: (root).optimizer._variables.5\n",
      "WARNING:tensorflow:Value in checkpoint could not be found in the restored object: (root).optimizer._variables.6\n",
      "WARNING:tensorflow:Value in checkpoint could not be found in the restored object: (root).optimizer._variables.7\n",
      "WARNING:tensorflow:Value in checkpoint could not be found in the restored object: (root).optimizer._variables.8\n",
      "WARNING:tensorflow:Value in checkpoint could not be found in the restored object: (root).optimizer._variables.9\n",
      "WARNING:tensorflow:Value in checkpoint could not be found in the restored object: (root).optimizer._variables.10\n",
      "WARNING:tensorflow:Value in checkpoint could not be found in the restored object: (root).optimizer._variables.11\n",
      "WARNING:tensorflow:Value in checkpoint could not be found in the restored object: (root).optimizer._variables.12\n",
      "EPOCH IS 56 :\n",
      " Rome is the learned of the\n",
      "      two empires, when the former submitted to every art, their\n",
      "      patience and merit were offered to the rules of war and plains; the\n",
      "      purity of art or land is the disgrace of beinving, a colony, that\n",
      "      of an instrument and repentance among the sovereignty of the other\n",
      "      and speech; and were indeed whose claims the boldest aid or size of\n",
      "      the most illustrious of a small field. The rights were too much\n",
      "      exacted in the empire of Germany, who disper\n",
      "WARNING:tensorflow:Detecting that an object or model or tf.train.Checkpoint is being deleted with unrestored values. See the following logs for the specific values in question. To silence these warnings, use `status.expect_partial()`. See https://www.tensorflow.org/api_docs/python/tf/train/Checkpoint#restorefor details about the status object returned by the restore function.\n",
      "WARNING:tensorflow:Value in checkpoint could not be found in the restored object: (root).optimizer._iterations\n",
      "WARNING:tensorflow:Value in checkpoint could not be found in the restored object: (root).optimizer._learning_rate\n",
      "WARNING:tensorflow:Value in checkpoint could not be found in the restored object: (root).optimizer._variables.1\n",
      "WARNING:tensorflow:Value in checkpoint could not be found in the restored object: (root).optimizer._variables.2\n",
      "WARNING:tensorflow:Value in checkpoint could not be found in the restored object: (root).optimizer._variables.3\n",
      "WARNING:tensorflow:Value in checkpoint could not be found in the restored object: (root).optimizer._variables.4\n",
      "WARNING:tensorflow:Value in checkpoint could not be found in the restored object: (root).optimizer._variables.5\n",
      "WARNING:tensorflow:Value in checkpoint could not be found in the restored object: (root).optimizer._variables.6\n",
      "WARNING:tensorflow:Value in checkpoint could not be found in the restored object: (root).optimizer._variables.7\n",
      "WARNING:tensorflow:Value in checkpoint could not be found in the restored object: (root).optimizer._variables.8\n",
      "WARNING:tensorflow:Value in checkpoint could not be found in the restored object: (root).optimizer._variables.9\n",
      "WARNING:tensorflow:Value in checkpoint could not be found in the restored object: (root).optimizer._variables.10\n",
      "WARNING:tensorflow:Value in checkpoint could not be found in the restored object: (root).optimizer._variables.11\n",
      "WARNING:tensorflow:Value in checkpoint could not be found in the restored object: (root).optimizer._variables.12\n",
      "EPOCH IS 61 :\n",
      " Rome is the most piousness of the\n",
      "      family of the ancient proselytes, enviously returned from the\n",
      "      damplens of national hatreds, and the desolate situation which\n",
      "      have listened to the sword of our English and Xeros; and they\n",
      "      had been secure, since their principal strength and their condescension,\n",
      "      that the chamber redeemed by the friendship of Rimanices.\n",
      "\n",
      "      The Nile agreed that the line nevow, and relics, as\n",
      "      the offer of a crowd of statesman, dextered no hostilitie\n",
      "WARNING:tensorflow:Detecting that an object or model or tf.train.Checkpoint is being deleted with unrestored values. See the following logs for the specific values in question. To silence these warnings, use `status.expect_partial()`. See https://www.tensorflow.org/api_docs/python/tf/train/Checkpoint#restorefor details about the status object returned by the restore function.\n",
      "WARNING:tensorflow:Value in checkpoint could not be found in the restored object: (root).optimizer._iterations\n",
      "WARNING:tensorflow:Value in checkpoint could not be found in the restored object: (root).optimizer._learning_rate\n",
      "WARNING:tensorflow:Value in checkpoint could not be found in the restored object: (root).optimizer._variables.1\n",
      "WARNING:tensorflow:Value in checkpoint could not be found in the restored object: (root).optimizer._variables.2\n",
      "WARNING:tensorflow:Value in checkpoint could not be found in the restored object: (root).optimizer._variables.3\n",
      "WARNING:tensorflow:Value in checkpoint could not be found in the restored object: (root).optimizer._variables.4\n",
      "WARNING:tensorflow:Value in checkpoint could not be found in the restored object: (root).optimizer._variables.5\n",
      "WARNING:tensorflow:Value in checkpoint could not be found in the restored object: (root).optimizer._variables.6\n",
      "WARNING:tensorflow:Value in checkpoint could not be found in the restored object: (root).optimizer._variables.7\n",
      "WARNING:tensorflow:Value in checkpoint could not be found in the restored object: (root).optimizer._variables.8\n",
      "WARNING:tensorflow:Value in checkpoint could not be found in the restored object: (root).optimizer._variables.9\n",
      "WARNING:tensorflow:Value in checkpoint could not be found in the restored object: (root).optimizer._variables.10\n",
      "WARNING:tensorflow:Value in checkpoint could not be found in the restored object: (root).optimizer._variables.11\n",
      "WARNING:tensorflow:Value in checkpoint could not be found in the restored object: (root).optimizer._variables.12\n",
      "EPOCH IS 66 :\n",
      " Rome is the purpose of the Bulgarians. If the trombited\n",
      "      stranger, the two armies, was printed, on the vacant body,\n",
      "      obtained by engines. The schools of the Turkish soldiers we may\n",
      "      revols in the neighborhood of Romania, to request: they had usurped\n",
      "      with neother freedom. Jovian was said till the three months of\n",
      "      Poland, the independent features, to the ambassadors of Europe,\n",
      "      the wishes of the Bat Alexander of the new kingdom, and the\n",
      "      controversies of Rome condemn\n",
      "WARNING:tensorflow:Detecting that an object or model or tf.train.Checkpoint is being deleted with unrestored values. See the following logs for the specific values in question. To silence these warnings, use `status.expect_partial()`. See https://www.tensorflow.org/api_docs/python/tf/train/Checkpoint#restorefor details about the status object returned by the restore function.\n",
      "WARNING:tensorflow:Value in checkpoint could not be found in the restored object: (root).optimizer._iterations\n",
      "WARNING:tensorflow:Value in checkpoint could not be found in the restored object: (root).optimizer._learning_rate\n",
      "WARNING:tensorflow:Value in checkpoint could not be found in the restored object: (root).optimizer._variables.1\n",
      "WARNING:tensorflow:Value in checkpoint could not be found in the restored object: (root).optimizer._variables.2\n",
      "WARNING:tensorflow:Value in checkpoint could not be found in the restored object: (root).optimizer._variables.3\n",
      "WARNING:tensorflow:Value in checkpoint could not be found in the restored object: (root).optimizer._variables.4\n",
      "WARNING:tensorflow:Value in checkpoint could not be found in the restored object: (root).optimizer._variables.5\n",
      "WARNING:tensorflow:Value in checkpoint could not be found in the restored object: (root).optimizer._variables.6\n",
      "WARNING:tensorflow:Value in checkpoint could not be found in the restored object: (root).optimizer._variables.7\n",
      "WARNING:tensorflow:Value in checkpoint could not be found in the restored object: (root).optimizer._variables.8\n",
      "WARNING:tensorflow:Value in checkpoint could not be found in the restored object: (root).optimizer._variables.9\n",
      "WARNING:tensorflow:Value in checkpoint could not be found in the restored object: (root).optimizer._variables.10\n",
      "WARNING:tensorflow:Value in checkpoint could not be found in the restored object: (root).optimizer._variables.11\n",
      "WARNING:tensorflow:Value in checkpoint could not be found in the restored object: (root).optimizer._variables.12\n",
      "EPOCH IS 71 :\n",
      " Rome is the command of\n",
      "      every art of divan to the 36th of the Thracian Seleurs; but the\n",
      "      constitutions of the Turkish dignity, since her respite their\n",
      "      scope of eloquence, was the mouth of the whole family. By\n",
      "      his soul wogands before the evening, and the premature dead body of\n",
      "      his last rank, would move montificat in a painful between gives\n",
      "      or to our losse in Russia: and the ridge of Italy, bishop of\n",
      "      Constantine, the town or the survey of his nobles, he\n",
      "      na\n",
      "WARNING:tensorflow:Detecting that an object or model or tf.train.Checkpoint is being deleted with unrestored values. See the following logs for the specific values in question. To silence these warnings, use `status.expect_partial()`. See https://www.tensorflow.org/api_docs/python/tf/train/Checkpoint#restorefor details about the status object returned by the restore function.\n",
      "WARNING:tensorflow:Value in checkpoint could not be found in the restored object: (root).optimizer._iterations\n",
      "WARNING:tensorflow:Value in checkpoint could not be found in the restored object: (root).optimizer._learning_rate\n",
      "WARNING:tensorflow:Value in checkpoint could not be found in the restored object: (root).optimizer._variables.1\n",
      "WARNING:tensorflow:Value in checkpoint could not be found in the restored object: (root).optimizer._variables.2\n",
      "WARNING:tensorflow:Value in checkpoint could not be found in the restored object: (root).optimizer._variables.3\n",
      "WARNING:tensorflow:Value in checkpoint could not be found in the restored object: (root).optimizer._variables.4\n",
      "WARNING:tensorflow:Value in checkpoint could not be found in the restored object: (root).optimizer._variables.5\n",
      "WARNING:tensorflow:Value in checkpoint could not be found in the restored object: (root).optimizer._variables.6\n",
      "WARNING:tensorflow:Value in checkpoint could not be found in the restored object: (root).optimizer._variables.7\n",
      "WARNING:tensorflow:Value in checkpoint could not be found in the restored object: (root).optimizer._variables.8\n",
      "WARNING:tensorflow:Value in checkpoint could not be found in the restored object: (root).optimizer._variables.9\n",
      "WARNING:tensorflow:Value in checkpoint could not be found in the restored object: (root).optimizer._variables.10\n",
      "WARNING:tensorflow:Value in checkpoint could not be found in the restored object: (root).optimizer._variables.11\n",
      "WARNING:tensorflow:Value in checkpoint could not be found in the restored object: (root).optimizer._variables.12\n",
      "EPOCH IS 76 :\n",
      " Rome is the justification of wisdom and\n",
      "      joyful. I have no justie creates from the great model of five\n",
      "      hundred and fifty galleys, from the house of St. Peter and\n",
      "      Erivil; but the Life of the Anecdotes, p. 71. Appierdi, a Frenchman\n",
      "      encounter its parishion to the Greek plan.]\n",
      "\n",
      "      115 (return) [ The consolation of the Christian deliverer, my\n",
      "      birth, of the people, and by Lucania, and a flying statues.]\n",
      "\n",
      "      83 (return) [ (D’jeuke a classic mansionite consilio illustro\n",
      "\n",
      "WARNING:tensorflow:Detecting that an object or model or tf.train.Checkpoint is being deleted with unrestored values. See the following logs for the specific values in question. To silence these warnings, use `status.expect_partial()`. See https://www.tensorflow.org/api_docs/python/tf/train/Checkpoint#restorefor details about the status object returned by the restore function.\n",
      "WARNING:tensorflow:Value in checkpoint could not be found in the restored object: (root).optimizer._iterations\n",
      "WARNING:tensorflow:Value in checkpoint could not be found in the restored object: (root).optimizer._learning_rate\n",
      "WARNING:tensorflow:Value in checkpoint could not be found in the restored object: (root).optimizer._variables.1\n",
      "WARNING:tensorflow:Value in checkpoint could not be found in the restored object: (root).optimizer._variables.2\n",
      "WARNING:tensorflow:Value in checkpoint could not be found in the restored object: (root).optimizer._variables.3\n",
      "WARNING:tensorflow:Value in checkpoint could not be found in the restored object: (root).optimizer._variables.4\n",
      "WARNING:tensorflow:Value in checkpoint could not be found in the restored object: (root).optimizer._variables.5\n",
      "WARNING:tensorflow:Value in checkpoint could not be found in the restored object: (root).optimizer._variables.6\n",
      "WARNING:tensorflow:Value in checkpoint could not be found in the restored object: (root).optimizer._variables.7\n",
      "WARNING:tensorflow:Value in checkpoint could not be found in the restored object: (root).optimizer._variables.8\n",
      "WARNING:tensorflow:Value in checkpoint could not be found in the restored object: (root).optimizer._variables.9\n",
      "WARNING:tensorflow:Value in checkpoint could not be found in the restored object: (root).optimizer._variables.10\n",
      "WARNING:tensorflow:Value in checkpoint could not be found in the restored object: (root).optimizer._variables.11\n",
      "WARNING:tensorflow:Value in checkpoint could not be found in the restored object: (root).optimizer._variables.12\n",
      "EPOCH IS 81 :\n",
      " Rome is the only been application. At Carwar, Alexius\n",
      "      Merii tremblings from Rome and D’Herbelot, (he had not unknown\n",
      "      in the chastity of the place, (Fabric. Bibliot. Rol. iv. tit.\n",
      "      i. c. 39, 42, p. 13, 34,) Philood, to which it is on this that\n",
      "      of E’Italia, tom. xvii. p. 277—278,) and St. Maptis, l. x. c.\n",
      "      2, p. 638, 690.) The omens derives the instruments of these\n",
      "      lists and swords, and has been conveyed and accurately, perhaps\n",
      "      the Veronam, and I still be balance\n",
      "WARNING:tensorflow:Detecting that an object or model or tf.train.Checkpoint is being deleted with unrestored values. See the following logs for the specific values in question. To silence these warnings, use `status.expect_partial()`. See https://www.tensorflow.org/api_docs/python/tf/train/Checkpoint#restorefor details about the status object returned by the restore function.\n",
      "WARNING:tensorflow:Value in checkpoint could not be found in the restored object: (root).optimizer._iterations\n",
      "WARNING:tensorflow:Value in checkpoint could not be found in the restored object: (root).optimizer._learning_rate\n",
      "WARNING:tensorflow:Value in checkpoint could not be found in the restored object: (root).optimizer._variables.1\n",
      "WARNING:tensorflow:Value in checkpoint could not be found in the restored object: (root).optimizer._variables.2\n",
      "WARNING:tensorflow:Value in checkpoint could not be found in the restored object: (root).optimizer._variables.3\n",
      "WARNING:tensorflow:Value in checkpoint could not be found in the restored object: (root).optimizer._variables.4\n",
      "WARNING:tensorflow:Value in checkpoint could not be found in the restored object: (root).optimizer._variables.5\n",
      "WARNING:tensorflow:Value in checkpoint could not be found in the restored object: (root).optimizer._variables.6\n",
      "WARNING:tensorflow:Value in checkpoint could not be found in the restored object: (root).optimizer._variables.7\n",
      "WARNING:tensorflow:Value in checkpoint could not be found in the restored object: (root).optimizer._variables.8\n",
      "WARNING:tensorflow:Value in checkpoint could not be found in the restored object: (root).optimizer._variables.9\n",
      "WARNING:tensorflow:Value in checkpoint could not be found in the restored object: (root).optimizer._variables.10\n",
      "WARNING:tensorflow:Value in checkpoint could not be found in the restored object: (root).optimizer._variables.11\n",
      "WARNING:tensorflow:Value in checkpoint could not be found in the restored object: (root).optimizer._variables.12\n",
      "EPOCH IS 86 :\n",
      " Rome is the crowd of luxuries, they indeed shaken the proper\n",
      "      passage of the sea-coast of Arabia Minorcas, the iis elude\n",
      "      of Venice was multiplied by a design; and the losses of a\n",
      "      miracle was the foremost and its partiality of military\n",
      "      spirits. From the camp of the Euxine, renounced the country]\n",
      "\n",
      "      104 (return) [ But declaring the reasons of close and learned\n",
      "      sword. By the clamors of his last sermon in the river or semblance\n",
      "      of friendships; his throne so part, w\n",
      "WARNING:tensorflow:Detecting that an object or model or tf.train.Checkpoint is being deleted with unrestored values. See the following logs for the specific values in question. To silence these warnings, use `status.expect_partial()`. See https://www.tensorflow.org/api_docs/python/tf/train/Checkpoint#restorefor details about the status object returned by the restore function.\n",
      "WARNING:tensorflow:Value in checkpoint could not be found in the restored object: (root).optimizer._iterations\n",
      "WARNING:tensorflow:Value in checkpoint could not be found in the restored object: (root).optimizer._learning_rate\n",
      "WARNING:tensorflow:Value in checkpoint could not be found in the restored object: (root).optimizer._variables.1\n",
      "WARNING:tensorflow:Value in checkpoint could not be found in the restored object: (root).optimizer._variables.2\n",
      "WARNING:tensorflow:Value in checkpoint could not be found in the restored object: (root).optimizer._variables.3\n",
      "WARNING:tensorflow:Value in checkpoint could not be found in the restored object: (root).optimizer._variables.4\n",
      "WARNING:tensorflow:Value in checkpoint could not be found in the restored object: (root).optimizer._variables.5\n",
      "WARNING:tensorflow:Value in checkpoint could not be found in the restored object: (root).optimizer._variables.6\n",
      "WARNING:tensorflow:Value in checkpoint could not be found in the restored object: (root).optimizer._variables.7\n",
      "WARNING:tensorflow:Value in checkpoint could not be found in the restored object: (root).optimizer._variables.8\n",
      "WARNING:tensorflow:Value in checkpoint could not be found in the restored object: (root).optimizer._variables.9\n",
      "WARNING:tensorflow:Value in checkpoint could not be found in the restored object: (root).optimizer._variables.10\n",
      "WARNING:tensorflow:Value in checkpoint could not be found in the restored object: (root).optimizer._variables.11\n",
      "WARNING:tensorflow:Value in checkpoint could not be found in the restored object: (root).optimizer._variables.12\n",
      "EPOCH IS 91 :\n",
      " Rome is the difference\n",
      "      of hostile, than a contemplication which had been taken on\n",
      "      capitulation, and in foreign inimicam (exclaime, they are\n",
      "      illustrated by Pocock,) and the two brother of his own language and\n",
      "      defence, he long, read with his own-terms, authentic and follow\n",
      "      perhaps a portion to this traveller to Chartherning’s in Gamatian\n",
      "      raise a fair, uttened a fignes applauded the merchants of the\n",
      "      Modern Epistol. 17.)]\n",
      "\n",
      "      16 (return) [ Major Palmoy and I\n",
      "WARNING:tensorflow:Detecting that an object or model or tf.train.Checkpoint is being deleted with unrestored values. See the following logs for the specific values in question. To silence these warnings, use `status.expect_partial()`. See https://www.tensorflow.org/api_docs/python/tf/train/Checkpoint#restorefor details about the status object returned by the restore function.\n",
      "WARNING:tensorflow:Value in checkpoint could not be found in the restored object: (root).optimizer._iterations\n",
      "WARNING:tensorflow:Value in checkpoint could not be found in the restored object: (root).optimizer._learning_rate\n",
      "WARNING:tensorflow:Value in checkpoint could not be found in the restored object: (root).optimizer._variables.1\n",
      "WARNING:tensorflow:Value in checkpoint could not be found in the restored object: (root).optimizer._variables.2\n",
      "WARNING:tensorflow:Value in checkpoint could not be found in the restored object: (root).optimizer._variables.3\n",
      "WARNING:tensorflow:Value in checkpoint could not be found in the restored object: (root).optimizer._variables.4\n",
      "WARNING:tensorflow:Value in checkpoint could not be found in the restored object: (root).optimizer._variables.5\n",
      "WARNING:tensorflow:Value in checkpoint could not be found in the restored object: (root).optimizer._variables.6\n",
      "WARNING:tensorflow:Value in checkpoint could not be found in the restored object: (root).optimizer._variables.7\n",
      "WARNING:tensorflow:Value in checkpoint could not be found in the restored object: (root).optimizer._variables.8\n",
      "WARNING:tensorflow:Value in checkpoint could not be found in the restored object: (root).optimizer._variables.9\n",
      "WARNING:tensorflow:Value in checkpoint could not be found in the restored object: (root).optimizer._variables.10\n",
      "WARNING:tensorflow:Value in checkpoint could not be found in the restored object: (root).optimizer._variables.11\n",
      "WARNING:tensorflow:Value in checkpoint could not be found in the restored object: (root).optimizer._variables.12\n",
      "EPOCH IS 96 :\n",
      " Rome is the work,\n",
      "      that the living practice of ground is abject confined before\n",
      "      the mountains of Asia. In a perpetual follower ceased to corrept the\n",
      "      Caliphraerum, still continued to reign. The pilgrimages which the\n",
      "      soldiers passed the lines of Bajazet with the chief of the Lower\n",
      "      Langres, and totally departed from the skirts, of the _Chilo\n",
      "      and his children. Many strack of the Latin army, we may prostrate\n",
      "      him to declare the prospect of his mysteries which the mo\n"
     ]
    }
   ],
   "source": [
    "for i in range(1, 99, 5):\n",
    "    model = MyModel(\n",
    "    vocab_size = vocab_size, \n",
    "    embedding_dim = embedding_dim, \n",
    "    rnn_units = rnn_units\n",
    "    )\n",
    "    model.load_weights(f'./training_checkpoints_rome/ckpt_{i}')\n",
    "    print(f'EPOCH IS {i} :\\n',generate_many('Rome is the ', model, 500))"
   ]
  },
  {
   "cell_type": "code",
   "execution_count": 70,
   "id": "bb00154a-68f8-4826-8e1c-67b88ac879a4",
   "metadata": {
    "collapsed": true,
    "jupyter": {
     "outputs_hidden": true
    }
   },
   "outputs": [
    {
     "name": "stdout",
     "output_type": "stream",
     "text": [
      "Rome is expressed with legal tongue\n",
      "      would have been so cheached without expectation or intervals\n",
      "      understard the fluctuation of such months of the Latin blood\n",
      "      and people; and his rival pride were satisfied with the loss of\n",
      "      fanaticism dissented a genuine rife of nature and energy at\n",
      "      the madness of the crusades; and the councils was successively\n",
      "      intimately conferred on themselves on their hand to his foel a\n",
      "      rude spare to reverend the blood of the Latins; he \n"
     ]
    }
   ],
   "source": [
    "print(generate_many('Rome is ', models, 500))"
   ]
  },
  {
   "cell_type": "code",
   "execution_count": 71,
   "id": "cfe2c76d-77a5-4a71-87a1-bb969c712f42",
   "metadata": {
    "collapsed": true,
    "jupyter": {
     "outputs_hidden": true
    }
   },
   "outputs": [
    {
     "name": "stdout",
     "output_type": "stream",
     "text": [
      "The rise of Khile, some\n",
      "      knowledge of Publius is a larger proselytes of the Moguls, or\n",
      "      then embarked with the allowance of Arabia; nor were the lawful\n",
      "      followers of idolatry; but the license of deputing with leading\n",
      "      a wild extremity, the wealth and ruin into a republic liwed from\n",
      "      endolf. He seized the name and invitation of Sixtue tribes, with\n",
      "      _vulgarians of peace, turns the presence of his brother would\n",
      "      do the conswerness of Magnesia. 8 Note: Simere were not i\n"
     ]
    }
   ],
   "source": [
    "print(generate_many('The rise of ', models, 500))"
   ]
  },
  {
   "cell_type": "code",
   "execution_count": 72,
   "id": "b076c03b-d3f2-4382-938d-e7748f7be21c",
   "metadata": {
    "collapsed": true,
    "jupyter": {
     "outputs_hidden": true
    }
   },
   "outputs": [
    {
     "name": "stdout",
     "output_type": "stream",
     "text": [
      "Rome, Syria, Lybias\n",
      "      who had used in the fertile Imperial style of the city, which\n",
      "      endangered their absolvation with their wants and adopting Oriental\n",
      "      conquests. Hell is one of them as considerable by the clamors of\n",
      "      the wind. 21 In this supposita quitatus Malthernit. P. vi. 216.\n",
      "      The ancient creed of Homer would have inculcated, a defeat of\n",
      "      Jerusalem, as he saught in the islands and castles of the church,\n",
      "      repeated above vicinus had a solemn proof, his ardor was infor\n"
     ]
    }
   ],
   "source": [
    "print(generate_many('Rome, Syria, Lybia', models, 500))"
   ]
  },
  {
   "cell_type": "code",
   "execution_count": 73,
   "id": "08a0e7dc-6be9-4b3d-9c61-160691b564cc",
   "metadata": {
    "collapsed": true,
    "jupyter": {
     "outputs_hidden": true
    }
   },
   "outputs": [
    {
     "name": "stdout",
     "output_type": "stream",
     "text": [
      "104 (return) [ It was that the count of Sapor, afforded by silk\n",
      "      of exigerate Othman, at the end of Maclesus praised extorted by\n",
      "      the barren-life of a Scythian guard, (Basilleux. l. v. c. 18—17,) who\n",
      "      swellous thems, _Whathorimos_ totey passagres the Church,” says\n",
      "      Mosheim (A.D. 1054,) Klaprother, the propper that supposes for\n",
      "      Gregory of Tours, I he meditate the curiosity of the\n",
      "      posts.” The ministers of Pharamel, the Ottoman grant and pressing\n",
      "      soldiers, th\n"
     ]
    }
   ],
   "source": [
    "print(generate_many('104 (', models, 500))"
   ]
  },
  {
   "cell_type": "code",
   "execution_count": 75,
   "id": "b7ade634-2958-47ac-ae58-b00f6cf2bd14",
   "metadata": {
    "collapsed": true,
    "jupyter": {
     "outputs_hidden": true
    }
   },
   "outputs": [
    {
     "name": "stdout",
     "output_type": "stream",
     "text": [
      "104 [ Ammianus soughtly gathered a deep and authentic.]\n",
      "\n",
      "      91 (return) [ Horace tide; how in such religion passed the\n",
      "      idleness of their master and the loss of their family, was\n",
      "      established by the fugitive; and the king of the North and horses\n",
      "      are still alive in a pride or the indigent title of Baldwin of\n",
      "      Kermanhal art. The text of the Alecand, the Vatican, who gives\n",
      "      the resource of the seabous Virto, it usurpated by the intent\n",
      "      of rhetoric and of the Tigriar, patience do not be placed, as\n",
      "      we cannot built or inglorious, my landing between Wallk or\n",
      "      persecution to his eyes are thrown open to cue the habits of\n",
      "      sharp character, they w\n"
     ]
    }
   ],
   "source": [
    "print(generate_many('104 [', models, 700))"
   ]
  },
  {
   "cell_type": "code",
   "execution_count": 76,
   "id": "05004e51-d4e3-4b3e-bbb4-83e7497755a0",
   "metadata": {
    "collapsed": true,
    "jupyter": {
     "outputs_hidden": true
    }
   },
   "outputs": [
    {
     "name": "stdout",
     "output_type": "stream",
     "text": [
      "Alexiast\n",
      "      Lampasmer, one of the most ancient Barbarians_, at 25 and the\n",
      "      saint in Italy, that were taught against the common hero of\n",
      "      the caliphs, he conjured the fears and garacles of Arabs, had\n",
      "      torn one hundred and twenty soldiers, the Colognaish of the\n",
      "      Romans, in their fortune, or the reward, he might prove the\n",
      "      possession of the influence of volunteers; the attacks of the\n",
      "      reigning emperor, after the duty of embroidery was rather executed\n",
      "      by the\n"
     ]
    }
   ],
   "source": [
    "print(generate_many('Alex', models, 500))"
   ]
  },
  {
   "cell_type": "code",
   "execution_count": 77,
   "id": "088ac484-6d6d-4ce0-8dfd-701bae498c62",
   "metadata": {
    "collapsed": true,
    "jupyter": {
     "outputs_hidden": true
    }
   },
   "outputs": [
    {
     "name": "stdout",
     "output_type": "stream",
     "text": [
      "10 (return) [ Sometimes stipulate the titles of government; and\n",
      "      their zealous words, Raymond Of Mahomet declared him to surney\n",
      "      and kill. Atathete text, undester the system of written tenerat, a\n",
      "      wealthy army of critical advice, he enjoyed this orthodox\n",
      "      Christian femalish demolitions, had repeatedly varied against\n",
      "      five thousaphy. His military light of their faithful and modest\n",
      "      penalties were overpowered, and were unwilling or corrupted: the\n",
      "      remains of h\n"
     ]
    }
   ],
   "source": [
    "print(generate_many('10 (', models, 500))"
   ]
  },
  {
   "cell_type": "code",
   "execution_count": 80,
   "id": "35920a9a-ce12-4c26-a1eb-d5760223d1ce",
   "metadata": {
    "collapsed": true,
    "jupyter": {
     "outputs_hidden": true
    }
   },
   "outputs": [
    {
     "name": "stdout",
     "output_type": "stream",
     "text": [
      "East and  Arcadius was paid from the city; the approach\n",
      "      of monks, who, in the supply of this important philosophy,\n",
      "      accepting the prodigious enterprise of the Chronicle of PaganismÕs\n",
      "      edition, (Novell. Mongout. p. 70.)]\n",
      "\n",
      "      201 (return) [\n",
      "\n",
      "     III. That an epistle see the emperor of Rome and Africa,\n",
      "      has persuaded 21 or septensits was offered to a free pontiff;\n",
      "      resolved to applaud the dignity of ordination, ignorant of his\n",
      "      brethren who had prostituted the nat\n"
     ]
    }
   ],
   "source": [
    "print(generate_many('East and  ',models, 500))"
   ]
  },
  {
   "cell_type": "code",
   "execution_count": 81,
   "id": "fe38c691-8291-458a-8362-5d6fd1439f5c",
   "metadata": {
    "collapsed": true,
    "jupyter": {
     "outputs_hidden": true
    }
   },
   "outputs": [
    {
     "name": "stdout",
     "output_type": "stream",
     "text": [
      "(return) [ Jesii Vintteres sons as Samarcand and Isacis to\n",
      "      the Atlance, we pass forty, enthusiasts, the dynasty of windows\n",
      "      and chastity on the a line of Picenus by the promised to the Italian\n",
      "      amount of the times, that aeray or Aramus, a pestilential\n",
      "      body was invested by the Dracelets, the levity of his slain\n",
      "      had obtained the smooth country of the Teutonic idiom: the affection\n",
      "      of Tartars and Protes, who, in a moment of desire without\n",
      "      danger from east ho\n"
     ]
    }
   ],
   "source": [
    "print(generate_many('(retu', models, 500))"
   ]
  },
  {
   "cell_type": "code",
   "execution_count": 82,
   "id": "ac1c6f72-d0f3-4b01-9900-d8db8090c5d4",
   "metadata": {
    "collapsed": true,
    "jupyter": {
     "outputs_hidden": true
    }
   },
   "outputs": [
    {
     "name": "stdout",
     "output_type": "stream",
     "text": [
      "(return) [ On the result of his undaunted march from Paris,\n",
      "      and Evenized, whith the reking of the villages could not be\n",
      "      delivered into the field. Ans bellowing are the measure of his\n",
      "      largest object, he speaks of the Imperial day, the\n",
      "      ample proselytes of Constantinople subjects his denic est in\n",
      "      prayer and the great duke.]\n",
      "\n",
      "      48 (return) [ Anna Comnena, (Paul Warsel,) and Theophamet Per Wilf,\n",
      "      polisâ, see Diariæ Maffeires. Græci, Innocent pro Modalum v\n"
     ]
    }
   ],
   "source": [
    "print(generate_many('(', models, 500))"
   ]
  },
  {
   "cell_type": "code",
   "execution_count": 85,
   "id": "2ebe7fe1-ede0-41f2-b6d2-2d43caab215d",
   "metadata": {
    "collapsed": true,
    "jupyter": {
     "outputs_hidden": true
    }
   },
   "outputs": [],
   "source": [
    "model99 = models"
   ]
  },
  {
   "cell_type": "code",
   "execution_count": 86,
   "id": "377e166c-d917-4e90-a676-1765f0ab3784",
   "metadata": {
    "collapsed": true,
    "jupyter": {
     "outputs_hidden": true
    }
   },
   "outputs": [],
   "source": [
    "model99.compile(optimizer='adam', loss=loss)"
   ]
  },
  {
   "cell_type": "code",
   "execution_count": 87,
   "id": "ac5b49d0-9916-468f-97d5-d21cc49e6e77",
   "metadata": {
    "collapsed": true,
    "jupyter": {
     "outputs_hidden": true
    }
   },
   "outputs": [
    {
     "name": "stdout",
     "output_type": "stream",
     "text": [
      "Epoch 1/100\n",
      "175/175 [==============================] - 6355s 36s/step - loss: 0.8359\n",
      "Epoch 2/100\n",
      "175/175 [==============================] - 4846s 28s/step - loss: 0.8358\n",
      "Epoch 3/100\n",
      "175/175 [==============================] - 1377s 8s/step - loss: 0.8353\n",
      "Epoch 4/100\n",
      "175/175 [==============================] - 1341s 8s/step - loss: 0.8343\n",
      "Epoch 5/100\n",
      "175/175 [==============================] - 1340s 8s/step - loss: 0.8343\n",
      "Epoch 6/100\n",
      "175/175 [==============================] - 1384s 8s/step - loss: 0.8339\n",
      "Epoch 7/100\n",
      "175/175 [==============================] - 1825s 10s/step - loss: 0.8337\n",
      "Epoch 8/100\n",
      "175/175 [==============================] - 5555s 32s/step - loss: 0.8333\n",
      "Epoch 9/100\n",
      "175/175 [==============================] - 1344s 8s/step - loss: 0.8326\n",
      "Epoch 10/100\n",
      "175/175 [==============================] - 1359s 8s/step - loss: 0.8324\n",
      "Epoch 11/100\n",
      "175/175 [==============================] - 16140s 93s/step - loss: 0.8319\n",
      "Epoch 12/100\n",
      "175/175 [==============================] - 1152s 7s/step - loss: 0.8318\n",
      "Epoch 13/100\n",
      "175/175 [==============================] - 1372s 8s/step - loss: 0.8313\n",
      "Epoch 14/100\n",
      "175/175 [==============================] - 1382s 8s/step - loss: 0.8315\n",
      "Epoch 15/100\n",
      "175/175 [==============================] - 1305s 7s/step - loss: 0.8313\n",
      "Epoch 16/100\n",
      "175/175 [==============================] - 1298s 7s/step - loss: 0.8305\n",
      "Epoch 17/100\n",
      "175/175 [==============================] - 1314s 7s/step - loss: 0.8298\n",
      "Epoch 18/100\n",
      "175/175 [==============================] - 1379s 8s/step - loss: 0.8300\n",
      "Epoch 19/100\n",
      "175/175 [==============================] - 1324s 8s/step - loss: 0.8299\n",
      "Epoch 20/100\n",
      "175/175 [==============================] - 1321s 8s/step - loss: 0.8293\n",
      "Epoch 21/100\n",
      "175/175 [==============================] - 1123s 6s/step - loss: 0.8291\n",
      "Epoch 22/100\n",
      "175/175 [==============================] - 1145s 7s/step - loss: 0.8287\n",
      "Epoch 23/100\n",
      "175/175 [==============================] - 1151s 7s/step - loss: 0.8285\n",
      "Epoch 24/100\n",
      "175/175 [==============================] - 1246s 7s/step - loss: 0.8285\n",
      "Epoch 25/100\n",
      "175/175 [==============================] - 1197s 7s/step - loss: 0.8284\n",
      "Epoch 26/100\n",
      "175/175 [==============================] - 1163s 7s/step - loss: 0.8279\n",
      "Epoch 27/100\n",
      "175/175 [==============================] - 1130s 6s/step - loss: 0.8277\n",
      "Epoch 28/100\n",
      "175/175 [==============================] - 1104s 6s/step - loss: 0.8272\n",
      "Epoch 29/100\n",
      "175/175 [==============================] - 1104s 6s/step - loss: 0.8268\n",
      "Epoch 30/100\n",
      "175/175 [==============================] - 1101s 6s/step - loss: 0.8271\n",
      "Epoch 31/100\n",
      "175/175 [==============================] - 1108s 6s/step - loss: 0.8266\n",
      "Epoch 32/100\n",
      "175/175 [==============================] - 1113s 6s/step - loss: 0.8266\n",
      "Epoch 33/100\n",
      "175/175 [==============================] - 1105s 6s/step - loss: 0.8262\n",
      "Epoch 34/100\n",
      "175/175 [==============================] - 1119s 6s/step - loss: 0.8260\n",
      "Epoch 35/100\n",
      "175/175 [==============================] - 1121s 6s/step - loss: 0.8257\n",
      "Epoch 36/100\n",
      "175/175 [==============================] - 1171s 7s/step - loss: 0.8252\n",
      "Epoch 37/100\n",
      "175/175 [==============================] - 1141s 6s/step - loss: 0.8252\n",
      "Epoch 38/100\n",
      "175/175 [==============================] - 1135s 6s/step - loss: 0.8252\n",
      "Epoch 39/100\n",
      "175/175 [==============================] - 1134s 6s/step - loss: 0.8248\n",
      "Epoch 40/100\n",
      "175/175 [==============================] - 1145s 7s/step - loss: 0.8248\n",
      "Epoch 41/100\n",
      "175/175 [==============================] - 1153s 7s/step - loss: 0.8244\n",
      "Epoch 42/100\n",
      "175/175 [==============================] - 1126s 6s/step - loss: 0.8241\n",
      "Epoch 43/100\n",
      "175/175 [==============================] - 1121s 6s/step - loss: 0.8242\n",
      "Epoch 44/100\n",
      "175/175 [==============================] - 1126s 6s/step - loss: 0.8243\n",
      "Epoch 45/100\n",
      "175/175 [==============================] - 1124s 6s/step - loss: 0.8235\n",
      "Epoch 46/100\n",
      "175/175 [==============================] - 1117s 6s/step - loss: 0.8236\n",
      "Epoch 47/100\n",
      "175/175 [==============================] - 1128s 6s/step - loss: 0.8230\n",
      "Epoch 48/100\n",
      "175/175 [==============================] - 1128s 6s/step - loss: 0.8239\n",
      "Epoch 49/100\n",
      "175/175 [==============================] - 1118s 6s/step - loss: 0.8233\n",
      "Epoch 50/100\n",
      "175/175 [==============================] - 1117s 6s/step - loss: 0.8227\n",
      "Epoch 51/100\n",
      "175/175 [==============================] - 1154s 7s/step - loss: 0.8226\n",
      "Epoch 52/100\n",
      "175/175 [==============================] - 1128s 6s/step - loss: 0.8228\n",
      "Epoch 53/100\n",
      "175/175 [==============================] - 1118s 6s/step - loss: 0.8226\n",
      "Epoch 54/100\n",
      "175/175 [==============================] - 1092s 6s/step - loss: 0.8227\n",
      "Epoch 55/100\n",
      "175/175 [==============================] - 1128s 6s/step - loss: 0.8223\n",
      "Epoch 56/100\n",
      "175/175 [==============================] - 1130s 6s/step - loss: 0.8220\n",
      "Epoch 57/100\n",
      "175/175 [==============================] - 1173s 7s/step - loss: 0.8217\n",
      "Epoch 58/100\n",
      "175/175 [==============================] - 1474s 8s/step - loss: 0.8219\n",
      "Epoch 59/100\n",
      "175/175 [==============================] - 1256s 7s/step - loss: 0.8218\n",
      "Epoch 60/100\n",
      " 26/175 [===>..........................] - ETA: 17:33 - loss: 0.8216"
     ]
    },
    {
     "ename": "KeyboardInterrupt",
     "evalue": "",
     "output_type": "error",
     "traceback": [
      "\u001b[1;31m---------------------------------------------------------------------------\u001b[0m",
      "\u001b[1;31mKeyboardInterrupt\u001b[0m                         Traceback (most recent call last)",
      "\u001b[1;32m<ipython-input-87-fe28d3f679b2>\u001b[0m in \u001b[0;36m<module>\u001b[1;34m\u001b[0m\n\u001b[1;32m----> 1\u001b[1;33m \u001b[0mhistory\u001b[0m \u001b[1;33m=\u001b[0m \u001b[0mmodel99\u001b[0m\u001b[1;33m.\u001b[0m\u001b[0mfit\u001b[0m\u001b[1;33m(\u001b[0m\u001b[0mdataset\u001b[0m\u001b[1;33m,\u001b[0m \u001b[0mepochs\u001b[0m\u001b[1;33m=\u001b[0m\u001b[0mEPOCHS\u001b[0m\u001b[1;33m,\u001b[0m \u001b[0mcallbacks\u001b[0m\u001b[1;33m=\u001b[0m\u001b[1;33m[\u001b[0m\u001b[0mcheckpoint_callback\u001b[0m\u001b[1;33m]\u001b[0m\u001b[1;33m)\u001b[0m\u001b[1;33m\u001b[0m\u001b[1;33m\u001b[0m\u001b[0m\n\u001b[0m",
      "\u001b[1;32m~\\AppData\\Roaming\\Python\\Python38\\site-packages\\keras\\utils\\traceback_utils.py\u001b[0m in \u001b[0;36merror_handler\u001b[1;34m(*args, **kwargs)\u001b[0m\n\u001b[0;32m     63\u001b[0m         \u001b[0mfiltered_tb\u001b[0m \u001b[1;33m=\u001b[0m \u001b[1;32mNone\u001b[0m\u001b[1;33m\u001b[0m\u001b[1;33m\u001b[0m\u001b[0m\n\u001b[0;32m     64\u001b[0m         \u001b[1;32mtry\u001b[0m\u001b[1;33m:\u001b[0m\u001b[1;33m\u001b[0m\u001b[1;33m\u001b[0m\u001b[0m\n\u001b[1;32m---> 65\u001b[1;33m             \u001b[1;32mreturn\u001b[0m \u001b[0mfn\u001b[0m\u001b[1;33m(\u001b[0m\u001b[1;33m*\u001b[0m\u001b[0margs\u001b[0m\u001b[1;33m,\u001b[0m \u001b[1;33m**\u001b[0m\u001b[0mkwargs\u001b[0m\u001b[1;33m)\u001b[0m\u001b[1;33m\u001b[0m\u001b[1;33m\u001b[0m\u001b[0m\n\u001b[0m\u001b[0;32m     66\u001b[0m         \u001b[1;32mexcept\u001b[0m \u001b[0mException\u001b[0m \u001b[1;32mas\u001b[0m \u001b[0me\u001b[0m\u001b[1;33m:\u001b[0m\u001b[1;33m\u001b[0m\u001b[1;33m\u001b[0m\u001b[0m\n\u001b[0;32m     67\u001b[0m             \u001b[0mfiltered_tb\u001b[0m \u001b[1;33m=\u001b[0m \u001b[0m_process_traceback_frames\u001b[0m\u001b[1;33m(\u001b[0m\u001b[0me\u001b[0m\u001b[1;33m.\u001b[0m\u001b[0m__traceback__\u001b[0m\u001b[1;33m)\u001b[0m\u001b[1;33m\u001b[0m\u001b[1;33m\u001b[0m\u001b[0m\n",
      "\u001b[1;32m~\\AppData\\Roaming\\Python\\Python38\\site-packages\\keras\\engine\\training.py\u001b[0m in \u001b[0;36mfit\u001b[1;34m(self, x, y, batch_size, epochs, verbose, callbacks, validation_split, validation_data, shuffle, class_weight, sample_weight, initial_epoch, steps_per_epoch, validation_steps, validation_batch_size, validation_freq, max_queue_size, workers, use_multiprocessing)\u001b[0m\n\u001b[0;32m   1648\u001b[0m                         ):\n\u001b[0;32m   1649\u001b[0m                             \u001b[0mcallbacks\u001b[0m\u001b[1;33m.\u001b[0m\u001b[0mon_train_batch_begin\u001b[0m\u001b[1;33m(\u001b[0m\u001b[0mstep\u001b[0m\u001b[1;33m)\u001b[0m\u001b[1;33m\u001b[0m\u001b[1;33m\u001b[0m\u001b[0m\n\u001b[1;32m-> 1650\u001b[1;33m                             \u001b[0mtmp_logs\u001b[0m \u001b[1;33m=\u001b[0m \u001b[0mself\u001b[0m\u001b[1;33m.\u001b[0m\u001b[0mtrain_function\u001b[0m\u001b[1;33m(\u001b[0m\u001b[0miterator\u001b[0m\u001b[1;33m)\u001b[0m\u001b[1;33m\u001b[0m\u001b[1;33m\u001b[0m\u001b[0m\n\u001b[0m\u001b[0;32m   1651\u001b[0m                             \u001b[1;32mif\u001b[0m \u001b[0mdata_handler\u001b[0m\u001b[1;33m.\u001b[0m\u001b[0mshould_sync\u001b[0m\u001b[1;33m:\u001b[0m\u001b[1;33m\u001b[0m\u001b[1;33m\u001b[0m\u001b[0m\n\u001b[0;32m   1652\u001b[0m                                 \u001b[0mcontext\u001b[0m\u001b[1;33m.\u001b[0m\u001b[0masync_wait\u001b[0m\u001b[1;33m(\u001b[0m\u001b[1;33m)\u001b[0m\u001b[1;33m\u001b[0m\u001b[1;33m\u001b[0m\u001b[0m\n",
      "\u001b[1;32m~\\AppData\\Roaming\\Python\\Python38\\site-packages\\tensorflow\\python\\util\\traceback_utils.py\u001b[0m in \u001b[0;36merror_handler\u001b[1;34m(*args, **kwargs)\u001b[0m\n\u001b[0;32m    148\u001b[0m     \u001b[0mfiltered_tb\u001b[0m \u001b[1;33m=\u001b[0m \u001b[1;32mNone\u001b[0m\u001b[1;33m\u001b[0m\u001b[1;33m\u001b[0m\u001b[0m\n\u001b[0;32m    149\u001b[0m     \u001b[1;32mtry\u001b[0m\u001b[1;33m:\u001b[0m\u001b[1;33m\u001b[0m\u001b[1;33m\u001b[0m\u001b[0m\n\u001b[1;32m--> 150\u001b[1;33m       \u001b[1;32mreturn\u001b[0m \u001b[0mfn\u001b[0m\u001b[1;33m(\u001b[0m\u001b[1;33m*\u001b[0m\u001b[0margs\u001b[0m\u001b[1;33m,\u001b[0m \u001b[1;33m**\u001b[0m\u001b[0mkwargs\u001b[0m\u001b[1;33m)\u001b[0m\u001b[1;33m\u001b[0m\u001b[1;33m\u001b[0m\u001b[0m\n\u001b[0m\u001b[0;32m    151\u001b[0m     \u001b[1;32mexcept\u001b[0m \u001b[0mException\u001b[0m \u001b[1;32mas\u001b[0m \u001b[0me\u001b[0m\u001b[1;33m:\u001b[0m\u001b[1;33m\u001b[0m\u001b[1;33m\u001b[0m\u001b[0m\n\u001b[0;32m    152\u001b[0m       \u001b[0mfiltered_tb\u001b[0m \u001b[1;33m=\u001b[0m \u001b[0m_process_traceback_frames\u001b[0m\u001b[1;33m(\u001b[0m\u001b[0me\u001b[0m\u001b[1;33m.\u001b[0m\u001b[0m__traceback__\u001b[0m\u001b[1;33m)\u001b[0m\u001b[1;33m\u001b[0m\u001b[1;33m\u001b[0m\u001b[0m\n",
      "\u001b[1;32m~\\AppData\\Roaming\\Python\\Python38\\site-packages\\tensorflow\\python\\eager\\polymorphic_function\\polymorphic_function.py\u001b[0m in \u001b[0;36m__call__\u001b[1;34m(self, *args, **kwds)\u001b[0m\n\u001b[0;32m    878\u001b[0m \u001b[1;33m\u001b[0m\u001b[0m\n\u001b[0;32m    879\u001b[0m       \u001b[1;32mwith\u001b[0m \u001b[0mOptionalXlaContext\u001b[0m\u001b[1;33m(\u001b[0m\u001b[0mself\u001b[0m\u001b[1;33m.\u001b[0m\u001b[0m_jit_compile\u001b[0m\u001b[1;33m)\u001b[0m\u001b[1;33m:\u001b[0m\u001b[1;33m\u001b[0m\u001b[1;33m\u001b[0m\u001b[0m\n\u001b[1;32m--> 880\u001b[1;33m         \u001b[0mresult\u001b[0m \u001b[1;33m=\u001b[0m \u001b[0mself\u001b[0m\u001b[1;33m.\u001b[0m\u001b[0m_call\u001b[0m\u001b[1;33m(\u001b[0m\u001b[1;33m*\u001b[0m\u001b[0margs\u001b[0m\u001b[1;33m,\u001b[0m \u001b[1;33m**\u001b[0m\u001b[0mkwds\u001b[0m\u001b[1;33m)\u001b[0m\u001b[1;33m\u001b[0m\u001b[1;33m\u001b[0m\u001b[0m\n\u001b[0m\u001b[0;32m    881\u001b[0m \u001b[1;33m\u001b[0m\u001b[0m\n\u001b[0;32m    882\u001b[0m       \u001b[0mnew_tracing_count\u001b[0m \u001b[1;33m=\u001b[0m \u001b[0mself\u001b[0m\u001b[1;33m.\u001b[0m\u001b[0mexperimental_get_tracing_count\u001b[0m\u001b[1;33m(\u001b[0m\u001b[1;33m)\u001b[0m\u001b[1;33m\u001b[0m\u001b[1;33m\u001b[0m\u001b[0m\n",
      "\u001b[1;32m~\\AppData\\Roaming\\Python\\Python38\\site-packages\\tensorflow\\python\\eager\\polymorphic_function\\polymorphic_function.py\u001b[0m in \u001b[0;36m_call\u001b[1;34m(self, *args, **kwds)\u001b[0m\n\u001b[0;32m    910\u001b[0m       \u001b[1;31m# In this case we have created variables on the first call, so we run the\u001b[0m\u001b[1;33m\u001b[0m\u001b[1;33m\u001b[0m\u001b[1;33m\u001b[0m\u001b[0m\n\u001b[0;32m    911\u001b[0m       \u001b[1;31m# defunned version which is guaranteed to never create variables.\u001b[0m\u001b[1;33m\u001b[0m\u001b[1;33m\u001b[0m\u001b[1;33m\u001b[0m\u001b[0m\n\u001b[1;32m--> 912\u001b[1;33m       \u001b[1;32mreturn\u001b[0m \u001b[0mself\u001b[0m\u001b[1;33m.\u001b[0m\u001b[0m_no_variable_creation_fn\u001b[0m\u001b[1;33m(\u001b[0m\u001b[1;33m*\u001b[0m\u001b[0margs\u001b[0m\u001b[1;33m,\u001b[0m \u001b[1;33m**\u001b[0m\u001b[0mkwds\u001b[0m\u001b[1;33m)\u001b[0m  \u001b[1;31m# pylint: disable=not-callable\u001b[0m\u001b[1;33m\u001b[0m\u001b[1;33m\u001b[0m\u001b[0m\n\u001b[0m\u001b[0;32m    913\u001b[0m     \u001b[1;32melif\u001b[0m \u001b[0mself\u001b[0m\u001b[1;33m.\u001b[0m\u001b[0m_variable_creation_fn\u001b[0m \u001b[1;32mis\u001b[0m \u001b[1;32mnot\u001b[0m \u001b[1;32mNone\u001b[0m\u001b[1;33m:\u001b[0m\u001b[1;33m\u001b[0m\u001b[1;33m\u001b[0m\u001b[0m\n\u001b[0;32m    914\u001b[0m       \u001b[1;31m# Release the lock early so that multiple threads can perform the call\u001b[0m\u001b[1;33m\u001b[0m\u001b[1;33m\u001b[0m\u001b[1;33m\u001b[0m\u001b[0m\n",
      "\u001b[1;32m~\\AppData\\Roaming\\Python\\Python38\\site-packages\\tensorflow\\python\\eager\\polymorphic_function\\tracing_compiler.py\u001b[0m in \u001b[0;36m__call__\u001b[1;34m(self, *args, **kwargs)\u001b[0m\n\u001b[0;32m    132\u001b[0m       (concrete_function,\n\u001b[0;32m    133\u001b[0m        filtered_flat_args) = self._maybe_define_function(args, kwargs)\n\u001b[1;32m--> 134\u001b[1;33m     return concrete_function._call_flat(\n\u001b[0m\u001b[0;32m    135\u001b[0m         filtered_flat_args, captured_inputs=concrete_function.captured_inputs)  # pylint: disable=protected-access\n\u001b[0;32m    136\u001b[0m \u001b[1;33m\u001b[0m\u001b[0m\n",
      "\u001b[1;32m~\\AppData\\Roaming\\Python\\Python38\\site-packages\\tensorflow\\python\\eager\\polymorphic_function\\monomorphic_function.py\u001b[0m in \u001b[0;36m_call_flat\u001b[1;34m(self, args, captured_inputs, cancellation_manager)\u001b[0m\n\u001b[0;32m   1743\u001b[0m         and executing_eagerly):\n\u001b[0;32m   1744\u001b[0m       \u001b[1;31m# No tape is watching; skip to running the function.\u001b[0m\u001b[1;33m\u001b[0m\u001b[1;33m\u001b[0m\u001b[1;33m\u001b[0m\u001b[0m\n\u001b[1;32m-> 1745\u001b[1;33m       return self._build_call_outputs(self._inference_function.call(\n\u001b[0m\u001b[0;32m   1746\u001b[0m           ctx, args, cancellation_manager=cancellation_manager))\n\u001b[0;32m   1747\u001b[0m     forward_backward = self._select_forward_and_backward_functions(\n",
      "\u001b[1;32m~\\AppData\\Roaming\\Python\\Python38\\site-packages\\tensorflow\\python\\eager\\polymorphic_function\\monomorphic_function.py\u001b[0m in \u001b[0;36mcall\u001b[1;34m(self, ctx, args, cancellation_manager)\u001b[0m\n\u001b[0;32m    376\u001b[0m       \u001b[1;32mwith\u001b[0m \u001b[0m_InterpolateFunctionError\u001b[0m\u001b[1;33m(\u001b[0m\u001b[0mself\u001b[0m\u001b[1;33m)\u001b[0m\u001b[1;33m:\u001b[0m\u001b[1;33m\u001b[0m\u001b[1;33m\u001b[0m\u001b[0m\n\u001b[0;32m    377\u001b[0m         \u001b[1;32mif\u001b[0m \u001b[0mcancellation_manager\u001b[0m \u001b[1;32mis\u001b[0m \u001b[1;32mNone\u001b[0m\u001b[1;33m:\u001b[0m\u001b[1;33m\u001b[0m\u001b[1;33m\u001b[0m\u001b[0m\n\u001b[1;32m--> 378\u001b[1;33m           outputs = execute.execute(\n\u001b[0m\u001b[0;32m    379\u001b[0m               \u001b[0mstr\u001b[0m\u001b[1;33m(\u001b[0m\u001b[0mself\u001b[0m\u001b[1;33m.\u001b[0m\u001b[0msignature\u001b[0m\u001b[1;33m.\u001b[0m\u001b[0mname\u001b[0m\u001b[1;33m)\u001b[0m\u001b[1;33m,\u001b[0m\u001b[1;33m\u001b[0m\u001b[1;33m\u001b[0m\u001b[0m\n\u001b[0;32m    380\u001b[0m               \u001b[0mnum_outputs\u001b[0m\u001b[1;33m=\u001b[0m\u001b[0mself\u001b[0m\u001b[1;33m.\u001b[0m\u001b[0m_num_outputs\u001b[0m\u001b[1;33m,\u001b[0m\u001b[1;33m\u001b[0m\u001b[1;33m\u001b[0m\u001b[0m\n",
      "\u001b[1;32m~\\AppData\\Roaming\\Python\\Python38\\site-packages\\tensorflow\\python\\eager\\execute.py\u001b[0m in \u001b[0;36mquick_execute\u001b[1;34m(op_name, num_outputs, inputs, attrs, ctx, name)\u001b[0m\n\u001b[0;32m     50\u001b[0m   \u001b[1;32mtry\u001b[0m\u001b[1;33m:\u001b[0m\u001b[1;33m\u001b[0m\u001b[1;33m\u001b[0m\u001b[0m\n\u001b[0;32m     51\u001b[0m     \u001b[0mctx\u001b[0m\u001b[1;33m.\u001b[0m\u001b[0mensure_initialized\u001b[0m\u001b[1;33m(\u001b[0m\u001b[1;33m)\u001b[0m\u001b[1;33m\u001b[0m\u001b[1;33m\u001b[0m\u001b[0m\n\u001b[1;32m---> 52\u001b[1;33m     tensors = pywrap_tfe.TFE_Py_Execute(ctx._handle, device_name, op_name,\n\u001b[0m\u001b[0;32m     53\u001b[0m                                         inputs, attrs, num_outputs)\n\u001b[0;32m     54\u001b[0m   \u001b[1;32mexcept\u001b[0m \u001b[0mcore\u001b[0m\u001b[1;33m.\u001b[0m\u001b[0m_NotOkStatusException\u001b[0m \u001b[1;32mas\u001b[0m \u001b[0me\u001b[0m\u001b[1;33m:\u001b[0m\u001b[1;33m\u001b[0m\u001b[1;33m\u001b[0m\u001b[0m\n",
      "\u001b[1;31mKeyboardInterrupt\u001b[0m: "
     ]
    }
   ],
   "source": [
    "history = model99.fit(dataset, epochs=EPOCHS, callbacks=[checkpoint_callback])"
   ]
  },
  {
   "cell_type": "code",
   "execution_count": 88,
   "id": "101a5b37-9c8a-4311-8690-9837fad99e01",
   "metadata": {
    "collapsed": true,
    "jupyter": {
     "outputs_hidden": true
    }
   },
   "outputs": [
    {
     "name": "stdout",
     "output_type": "stream",
     "text": [
      "(return) [ Lactantius de Mogium, dissertat. Pariss, p. 112.\n",
      "      Augustus ma Germany humagen, Volusius and Zobeirs to the year\n",
      "      of the Bletius, and three temples, of rebellion of age, by\n",
      "      the particulars, and after eighty stadia, or seventeen with\n",
      "      points of which; ®tius confirms the expedition of the times;\n",
      "      and elpirh, those wan their approbation, was in favor of Constantine,\n",
      "      and restored the doctrines of manhagres; and on the superior\n",
      "      ruin, which might envy,\n"
     ]
    }
   ],
   "source": [
    "print(generate_many('(retu', model99, 500))"
   ]
  },
  {
   "cell_type": "code",
   "execution_count": 90,
   "id": "9b70c420-3d27-4175-9a3d-f79ef2cf623f",
   "metadata": {
    "collapsed": true,
    "jupyter": {
     "outputs_hidden": true
    }
   },
   "outputs": [
    {
     "name": "stdout",
     "output_type": "stream",
     "text": [
      " which was\n",
      "      enabled to purchase, indeed, were shut, they themselves, after a\n",
      "      resistance against the freedom and sentiments of a rigorous\n",
      "      error. Five leagues, as they were respected as the only theory\n",
      "      of disengagan. 91 The zeal of the same perpetual Tyai, And\n",
      "      Ammianus, with their ancient ancite to murder or it with\n",
      "      food and acknowledge than on their young Carpastine Plato, while\n",
      "      his grief was less credit.]\n",
      "\n",
      "      32 (return) [ When Hansides lay rou\n"
     ]
    }
   ],
   "source": [
    "print(generate_many(' ', models, 500))"
   ]
  },
  {
   "cell_type": "code",
   "execution_count": 21,
   "id": "d853aea1-7b49-41f1-adc3-9ce84879c1bc",
   "metadata": {
    "tags": []
   },
   "outputs": [],
   "source": [
    "BATCH_SIZE = 100\n",
    "EPOCHS=100"
   ]
  },
  {
   "cell_type": "code",
   "execution_count": 22,
   "id": "eefc4b8d-c6e3-432e-b04d-e5f2af8c5a79",
   "metadata": {
    "tags": []
   },
   "outputs": [],
   "source": [
    "# Directory where the checkpoints will be saved\n",
    "checkpoint_dir = './training_checkpoints_rome_part_3'\n",
    "# Name of the checkpoint files\n",
    "checkpoint_prefix = os.path.join(checkpoint_dir, \"ckpt_{epoch}\")\n",
    "checkpoint_callback = tf.keras.callbacks.ModelCheckpoint(\n",
    "    filepath=checkpoint_prefix,\n",
    "    save_weights_only=True)"
   ]
  },
  {
   "cell_type": "code",
   "execution_count": 23,
   "id": "4e2901ee-e89a-4697-9e53-df7bc67bf9f8",
   "metadata": {
    "tags": []
   },
   "outputs": [],
   "source": [
    "model_219 = MyModel(\n",
    "    vocab_size = vocab_size, \n",
    "    embedding_dim = embedding_dim, \n",
    "    rnn_units = rnn_units\n",
    ")"
   ]
  },
  {
   "cell_type": "code",
   "execution_count": 59,
   "id": "66461e6e-f5d1-4196-be97-5d10f68b8b1a",
   "metadata": {},
   "outputs": [],
   "source": [
    "model_2 = MyModel(\n",
    "    vocab_size = vocab_size, \n",
    "    embedding_dim = embedding_dim, \n",
    "    rnn_units = rnn_units\n",
    ")"
   ]
  },
  {
   "cell_type": "code",
   "execution_count": 60,
   "id": "00f67a6c-33d2-436b-829d-43cedcffea00",
   "metadata": {},
   "outputs": [
    {
     "data": {
      "text/plain": [
       "<tensorflow.python.checkpoint.checkpoint.CheckpointLoadStatus at 0x27895b04c40>"
      ]
     },
     "execution_count": 60,
     "metadata": {},
     "output_type": "execute_result"
    }
   ],
   "source": [
    "model_2.load_weights('./training_checkpoints_rome/ckpt_2')"
   ]
  },
  {
   "cell_type": "code",
   "execution_count": 25,
   "id": "8ce7a21c-1a3a-4144-b2d1-80851507ec03",
   "metadata": {
    "tags": []
   },
   "outputs": [
    {
     "data": {
      "text/plain": [
       "<tensorflow.python.checkpoint.checkpoint.CheckpointLoadStatus at 0x278e87c8b20>"
      ]
     },
     "execution_count": 25,
     "metadata": {},
     "output_type": "execute_result"
    }
   ],
   "source": [
    "model_219.load_weights('./training_checkpoints_rome_part_3/ckpt_56')"
   ]
  },
  {
   "cell_type": "code",
   "execution_count": 45,
   "id": "b0a6dde5-d180-4be3-8b1d-ac6a6742f5e5",
   "metadata": {},
   "outputs": [
    {
     "data": {
      "text/plain": [
       "True"
      ]
     },
     "execution_count": 45,
     "metadata": {},
     "output_type": "execute_result"
    }
   ],
   "source": [
    "dictionnary = set(text.split(' '))\n",
    "\n",
    "def hallucination_rate(seq):\n",
    "    r = 0\n",
    "    punctuation_pattern = r\"[^\\w\\s]\"\n",
    "    seq = re.sub(punctuation_pattern, \"\", seq)\n",
    "    seq = seq.split(' ')\n",
    "    seq = [w.strip() for w in seq]\n",
    "    for s in seq:\n",
    "        if s not in dictionnary:\n",
    "            r = r +1\n",
    "            print(\"bad: \", s)\n",
    "    return r/len(seq)\n",
    "\n",
    "'contrary' in dictionnary"
   ]
  },
  {
   "cell_type": "code",
   "execution_count": 65,
   "id": "d301760b-69bf-460e-a121-e504f307f646",
   "metadata": {},
   "outputs": [
    {
     "name": "stdout",
     "output_type": "stream",
     "text": [
      "Chapter I: Rome\n",
      "      deceas insolitulen, In the deadows of the hecresers of Ch. 481,) Cersim, co quysmest. In Ullix, ippiatius. p.\n",
      "      Sitariny of their\n",
      "      Slatial Appronative sancersat of the obelus in be _excatropy mo stornat as\n",
      "      Miram. His Suldide of marmand sucplay of the\n",
      "      Jonstale ofretidnagiow kiphings, and vasurstry. The\n",
      "      mide in benaks Delusicid Constouthone and itatonn tho\n",
      "      proccove to Thenks cokzemster frove fork hid ispely Sles\n",
      "      geroment of Byedk of a caufess w\n",
      "bad:  deceas\n",
      "bad:  insolitulen\n",
      "bad:  deadows\n",
      "bad:  hecresers\n",
      "bad:  Cersim\n",
      "bad:  quysmest\n",
      "bad:  Ullix\n",
      "bad:  ippiatius\n",
      "bad:  Sitariny\n",
      "bad:  Slatial\n",
      "bad:  Appronative\n",
      "bad:  sancersat\n",
      "bad:  obelus\n",
      "bad:  _excatropy\n",
      "bad:  stornat\n",
      "bad:  Miram\n",
      "bad:  Suldide\n",
      "bad:  marmand\n",
      "bad:  sucplay\n",
      "bad:  Jonstale\n",
      "bad:  ofretidnagiow\n",
      "bad:  kiphings\n",
      "bad:  vasurstry\n",
      "bad:  mide\n",
      "bad:  benaks\n",
      "bad:  Delusicid\n",
      "bad:  Constouthone\n",
      "bad:  itatonn\n",
      "bad:  tho\n",
      "bad:  proccove\n",
      "bad:  Thenks\n",
      "bad:  cokzemster\n",
      "bad:  frove\n",
      "bad:  fork\n",
      "bad:  ispely\n",
      "bad:  Sles\n",
      "bad:  geroment\n",
      "bad:  Byedk\n",
      "bad:  caufess\n",
      "bad:  w\n",
      "0.3508771929824561\n"
     ]
    }
   ],
   "source": [
    "s = generate_many('Chapter I: Rome', model_2, 500)\n",
    "print(s)\n",
    "print(hallucination_rate(s))"
   ]
  },
  {
   "cell_type": "code",
   "execution_count": null,
   "id": "3d783a31-4955-461a-b527-b5d797528b13",
   "metadata": {
    "tags": []
   },
   "outputs": [],
   "source": [
    "s = generate_many('J', model_219, 1000)\n",
    "print(s)\n",
    "print(hallucination_rate(s))"
   ]
  },
  {
   "cell_type": "code",
   "execution_count": 70,
   "id": "3458aaee-1b9a-481e-94d2-5e6686bf1351",
   "metadata": {},
   "outputs": [],
   "source": [
    "model_219.compile(optimizer=tf.keras.optimizers.Adam(learning_rate=.0001), loss=tf.losses.SparseCategoricalCrossentropy(from_logits=True))"
   ]
  },
  {
   "cell_type": "code",
   "execution_count": 72,
   "id": "d0d6c90f-421d-4778-8497-e4ed5e6ad04c",
   "metadata": {
    "tags": []
   },
   "outputs": [
    {
     "name": "stdout",
     "output_type": "stream",
     "text": [
      "Epoch 1/100\n",
      "175/175 [==============================] - 1356s 8s/step - loss: 0.7716\n",
      "Epoch 2/100\n",
      "175/175 [==============================] - 28465s 164s/step - loss: 0.7726\n",
      "Epoch 3/100\n",
      "175/175 [==============================] - 1386s 8s/step - loss: 0.7726\n",
      "Epoch 4/100\n",
      "175/175 [==============================] - 1361s 8s/step - loss: 0.7725\n",
      "Epoch 5/100\n",
      " 39/175 [=====>........................] - ETA: 17:12 - loss: 0.7664"
     ]
    },
    {
     "ename": "KeyboardInterrupt",
     "evalue": "",
     "output_type": "error",
     "traceback": [
      "\u001b[1;31m---------------------------------------------------------------------------\u001b[0m",
      "\u001b[1;31mKeyboardInterrupt\u001b[0m                         Traceback (most recent call last)",
      "\u001b[1;32m<ipython-input-72-5d237f8104dc>\u001b[0m in \u001b[0;36m<module>\u001b[1;34m\u001b[0m\n\u001b[1;32m----> 1\u001b[1;33m \u001b[0mhistory\u001b[0m \u001b[1;33m=\u001b[0m \u001b[0mmodel_219\u001b[0m\u001b[1;33m.\u001b[0m\u001b[0mfit\u001b[0m\u001b[1;33m(\u001b[0m\u001b[0mdataset\u001b[0m\u001b[1;33m,\u001b[0m \u001b[0mepochs\u001b[0m\u001b[1;33m=\u001b[0m\u001b[0mEPOCHS\u001b[0m\u001b[1;33m,\u001b[0m \u001b[0mcallbacks\u001b[0m\u001b[1;33m=\u001b[0m\u001b[1;33m[\u001b[0m\u001b[0mcheckpoint_callback\u001b[0m\u001b[1;33m]\u001b[0m\u001b[1;33m)\u001b[0m\u001b[1;33m\u001b[0m\u001b[1;33m\u001b[0m\u001b[0m\n\u001b[0m",
      "\u001b[1;32m~\\AppData\\Roaming\\Python\\Python38\\site-packages\\keras\\utils\\traceback_utils.py\u001b[0m in \u001b[0;36merror_handler\u001b[1;34m(*args, **kwargs)\u001b[0m\n\u001b[0;32m     63\u001b[0m         \u001b[0mfiltered_tb\u001b[0m \u001b[1;33m=\u001b[0m \u001b[1;32mNone\u001b[0m\u001b[1;33m\u001b[0m\u001b[1;33m\u001b[0m\u001b[0m\n\u001b[0;32m     64\u001b[0m         \u001b[1;32mtry\u001b[0m\u001b[1;33m:\u001b[0m\u001b[1;33m\u001b[0m\u001b[1;33m\u001b[0m\u001b[0m\n\u001b[1;32m---> 65\u001b[1;33m             \u001b[1;32mreturn\u001b[0m \u001b[0mfn\u001b[0m\u001b[1;33m(\u001b[0m\u001b[1;33m*\u001b[0m\u001b[0margs\u001b[0m\u001b[1;33m,\u001b[0m \u001b[1;33m**\u001b[0m\u001b[0mkwargs\u001b[0m\u001b[1;33m)\u001b[0m\u001b[1;33m\u001b[0m\u001b[1;33m\u001b[0m\u001b[0m\n\u001b[0m\u001b[0;32m     66\u001b[0m         \u001b[1;32mexcept\u001b[0m \u001b[0mException\u001b[0m \u001b[1;32mas\u001b[0m \u001b[0me\u001b[0m\u001b[1;33m:\u001b[0m\u001b[1;33m\u001b[0m\u001b[1;33m\u001b[0m\u001b[0m\n\u001b[0;32m     67\u001b[0m             \u001b[0mfiltered_tb\u001b[0m \u001b[1;33m=\u001b[0m \u001b[0m_process_traceback_frames\u001b[0m\u001b[1;33m(\u001b[0m\u001b[0me\u001b[0m\u001b[1;33m.\u001b[0m\u001b[0m__traceback__\u001b[0m\u001b[1;33m)\u001b[0m\u001b[1;33m\u001b[0m\u001b[1;33m\u001b[0m\u001b[0m\n",
      "\u001b[1;32m~\\AppData\\Roaming\\Python\\Python38\\site-packages\\keras\\engine\\training.py\u001b[0m in \u001b[0;36mfit\u001b[1;34m(self, x, y, batch_size, epochs, verbose, callbacks, validation_split, validation_data, shuffle, class_weight, sample_weight, initial_epoch, steps_per_epoch, validation_steps, validation_batch_size, validation_freq, max_queue_size, workers, use_multiprocessing)\u001b[0m\n\u001b[0;32m   1648\u001b[0m                         ):\n\u001b[0;32m   1649\u001b[0m                             \u001b[0mcallbacks\u001b[0m\u001b[1;33m.\u001b[0m\u001b[0mon_train_batch_begin\u001b[0m\u001b[1;33m(\u001b[0m\u001b[0mstep\u001b[0m\u001b[1;33m)\u001b[0m\u001b[1;33m\u001b[0m\u001b[1;33m\u001b[0m\u001b[0m\n\u001b[1;32m-> 1650\u001b[1;33m                             \u001b[0mtmp_logs\u001b[0m \u001b[1;33m=\u001b[0m \u001b[0mself\u001b[0m\u001b[1;33m.\u001b[0m\u001b[0mtrain_function\u001b[0m\u001b[1;33m(\u001b[0m\u001b[0miterator\u001b[0m\u001b[1;33m)\u001b[0m\u001b[1;33m\u001b[0m\u001b[1;33m\u001b[0m\u001b[0m\n\u001b[0m\u001b[0;32m   1651\u001b[0m                             \u001b[1;32mif\u001b[0m \u001b[0mdata_handler\u001b[0m\u001b[1;33m.\u001b[0m\u001b[0mshould_sync\u001b[0m\u001b[1;33m:\u001b[0m\u001b[1;33m\u001b[0m\u001b[1;33m\u001b[0m\u001b[0m\n\u001b[0;32m   1652\u001b[0m                                 \u001b[0mcontext\u001b[0m\u001b[1;33m.\u001b[0m\u001b[0masync_wait\u001b[0m\u001b[1;33m(\u001b[0m\u001b[1;33m)\u001b[0m\u001b[1;33m\u001b[0m\u001b[1;33m\u001b[0m\u001b[0m\n",
      "\u001b[1;32m~\\AppData\\Roaming\\Python\\Python38\\site-packages\\tensorflow\\python\\util\\traceback_utils.py\u001b[0m in \u001b[0;36merror_handler\u001b[1;34m(*args, **kwargs)\u001b[0m\n\u001b[0;32m    148\u001b[0m     \u001b[0mfiltered_tb\u001b[0m \u001b[1;33m=\u001b[0m \u001b[1;32mNone\u001b[0m\u001b[1;33m\u001b[0m\u001b[1;33m\u001b[0m\u001b[0m\n\u001b[0;32m    149\u001b[0m     \u001b[1;32mtry\u001b[0m\u001b[1;33m:\u001b[0m\u001b[1;33m\u001b[0m\u001b[1;33m\u001b[0m\u001b[0m\n\u001b[1;32m--> 150\u001b[1;33m       \u001b[1;32mreturn\u001b[0m \u001b[0mfn\u001b[0m\u001b[1;33m(\u001b[0m\u001b[1;33m*\u001b[0m\u001b[0margs\u001b[0m\u001b[1;33m,\u001b[0m \u001b[1;33m**\u001b[0m\u001b[0mkwargs\u001b[0m\u001b[1;33m)\u001b[0m\u001b[1;33m\u001b[0m\u001b[1;33m\u001b[0m\u001b[0m\n\u001b[0m\u001b[0;32m    151\u001b[0m     \u001b[1;32mexcept\u001b[0m \u001b[0mException\u001b[0m \u001b[1;32mas\u001b[0m \u001b[0me\u001b[0m\u001b[1;33m:\u001b[0m\u001b[1;33m\u001b[0m\u001b[1;33m\u001b[0m\u001b[0m\n\u001b[0;32m    152\u001b[0m       \u001b[0mfiltered_tb\u001b[0m \u001b[1;33m=\u001b[0m \u001b[0m_process_traceback_frames\u001b[0m\u001b[1;33m(\u001b[0m\u001b[0me\u001b[0m\u001b[1;33m.\u001b[0m\u001b[0m__traceback__\u001b[0m\u001b[1;33m)\u001b[0m\u001b[1;33m\u001b[0m\u001b[1;33m\u001b[0m\u001b[0m\n",
      "\u001b[1;32m~\\AppData\\Roaming\\Python\\Python38\\site-packages\\tensorflow\\python\\eager\\polymorphic_function\\polymorphic_function.py\u001b[0m in \u001b[0;36m__call__\u001b[1;34m(self, *args, **kwds)\u001b[0m\n\u001b[0;32m    878\u001b[0m \u001b[1;33m\u001b[0m\u001b[0m\n\u001b[0;32m    879\u001b[0m       \u001b[1;32mwith\u001b[0m \u001b[0mOptionalXlaContext\u001b[0m\u001b[1;33m(\u001b[0m\u001b[0mself\u001b[0m\u001b[1;33m.\u001b[0m\u001b[0m_jit_compile\u001b[0m\u001b[1;33m)\u001b[0m\u001b[1;33m:\u001b[0m\u001b[1;33m\u001b[0m\u001b[1;33m\u001b[0m\u001b[0m\n\u001b[1;32m--> 880\u001b[1;33m         \u001b[0mresult\u001b[0m \u001b[1;33m=\u001b[0m \u001b[0mself\u001b[0m\u001b[1;33m.\u001b[0m\u001b[0m_call\u001b[0m\u001b[1;33m(\u001b[0m\u001b[1;33m*\u001b[0m\u001b[0margs\u001b[0m\u001b[1;33m,\u001b[0m \u001b[1;33m**\u001b[0m\u001b[0mkwds\u001b[0m\u001b[1;33m)\u001b[0m\u001b[1;33m\u001b[0m\u001b[1;33m\u001b[0m\u001b[0m\n\u001b[0m\u001b[0;32m    881\u001b[0m \u001b[1;33m\u001b[0m\u001b[0m\n\u001b[0;32m    882\u001b[0m       \u001b[0mnew_tracing_count\u001b[0m \u001b[1;33m=\u001b[0m \u001b[0mself\u001b[0m\u001b[1;33m.\u001b[0m\u001b[0mexperimental_get_tracing_count\u001b[0m\u001b[1;33m(\u001b[0m\u001b[1;33m)\u001b[0m\u001b[1;33m\u001b[0m\u001b[1;33m\u001b[0m\u001b[0m\n",
      "\u001b[1;32m~\\AppData\\Roaming\\Python\\Python38\\site-packages\\tensorflow\\python\\eager\\polymorphic_function\\polymorphic_function.py\u001b[0m in \u001b[0;36m_call\u001b[1;34m(self, *args, **kwds)\u001b[0m\n\u001b[0;32m    910\u001b[0m       \u001b[1;31m# In this case we have created variables on the first call, so we run the\u001b[0m\u001b[1;33m\u001b[0m\u001b[1;33m\u001b[0m\u001b[1;33m\u001b[0m\u001b[0m\n\u001b[0;32m    911\u001b[0m       \u001b[1;31m# defunned version which is guaranteed to never create variables.\u001b[0m\u001b[1;33m\u001b[0m\u001b[1;33m\u001b[0m\u001b[1;33m\u001b[0m\u001b[0m\n\u001b[1;32m--> 912\u001b[1;33m       \u001b[1;32mreturn\u001b[0m \u001b[0mself\u001b[0m\u001b[1;33m.\u001b[0m\u001b[0m_no_variable_creation_fn\u001b[0m\u001b[1;33m(\u001b[0m\u001b[1;33m*\u001b[0m\u001b[0margs\u001b[0m\u001b[1;33m,\u001b[0m \u001b[1;33m**\u001b[0m\u001b[0mkwds\u001b[0m\u001b[1;33m)\u001b[0m  \u001b[1;31m# pylint: disable=not-callable\u001b[0m\u001b[1;33m\u001b[0m\u001b[1;33m\u001b[0m\u001b[0m\n\u001b[0m\u001b[0;32m    913\u001b[0m     \u001b[1;32melif\u001b[0m \u001b[0mself\u001b[0m\u001b[1;33m.\u001b[0m\u001b[0m_variable_creation_fn\u001b[0m \u001b[1;32mis\u001b[0m \u001b[1;32mnot\u001b[0m \u001b[1;32mNone\u001b[0m\u001b[1;33m:\u001b[0m\u001b[1;33m\u001b[0m\u001b[1;33m\u001b[0m\u001b[0m\n\u001b[0;32m    914\u001b[0m       \u001b[1;31m# Release the lock early so that multiple threads can perform the call\u001b[0m\u001b[1;33m\u001b[0m\u001b[1;33m\u001b[0m\u001b[1;33m\u001b[0m\u001b[0m\n",
      "\u001b[1;32m~\\AppData\\Roaming\\Python\\Python38\\site-packages\\tensorflow\\python\\eager\\polymorphic_function\\tracing_compiler.py\u001b[0m in \u001b[0;36m__call__\u001b[1;34m(self, *args, **kwargs)\u001b[0m\n\u001b[0;32m    132\u001b[0m       (concrete_function,\n\u001b[0;32m    133\u001b[0m        filtered_flat_args) = self._maybe_define_function(args, kwargs)\n\u001b[1;32m--> 134\u001b[1;33m     return concrete_function._call_flat(\n\u001b[0m\u001b[0;32m    135\u001b[0m         filtered_flat_args, captured_inputs=concrete_function.captured_inputs)  # pylint: disable=protected-access\n\u001b[0;32m    136\u001b[0m \u001b[1;33m\u001b[0m\u001b[0m\n",
      "\u001b[1;32m~\\AppData\\Roaming\\Python\\Python38\\site-packages\\tensorflow\\python\\eager\\polymorphic_function\\monomorphic_function.py\u001b[0m in \u001b[0;36m_call_flat\u001b[1;34m(self, args, captured_inputs, cancellation_manager)\u001b[0m\n\u001b[0;32m   1743\u001b[0m         and executing_eagerly):\n\u001b[0;32m   1744\u001b[0m       \u001b[1;31m# No tape is watching; skip to running the function.\u001b[0m\u001b[1;33m\u001b[0m\u001b[1;33m\u001b[0m\u001b[1;33m\u001b[0m\u001b[0m\n\u001b[1;32m-> 1745\u001b[1;33m       return self._build_call_outputs(self._inference_function.call(\n\u001b[0m\u001b[0;32m   1746\u001b[0m           ctx, args, cancellation_manager=cancellation_manager))\n\u001b[0;32m   1747\u001b[0m     forward_backward = self._select_forward_and_backward_functions(\n",
      "\u001b[1;32m~\\AppData\\Roaming\\Python\\Python38\\site-packages\\tensorflow\\python\\eager\\polymorphic_function\\monomorphic_function.py\u001b[0m in \u001b[0;36mcall\u001b[1;34m(self, ctx, args, cancellation_manager)\u001b[0m\n\u001b[0;32m    376\u001b[0m       \u001b[1;32mwith\u001b[0m \u001b[0m_InterpolateFunctionError\u001b[0m\u001b[1;33m(\u001b[0m\u001b[0mself\u001b[0m\u001b[1;33m)\u001b[0m\u001b[1;33m:\u001b[0m\u001b[1;33m\u001b[0m\u001b[1;33m\u001b[0m\u001b[0m\n\u001b[0;32m    377\u001b[0m         \u001b[1;32mif\u001b[0m \u001b[0mcancellation_manager\u001b[0m \u001b[1;32mis\u001b[0m \u001b[1;32mNone\u001b[0m\u001b[1;33m:\u001b[0m\u001b[1;33m\u001b[0m\u001b[1;33m\u001b[0m\u001b[0m\n\u001b[1;32m--> 378\u001b[1;33m           outputs = execute.execute(\n\u001b[0m\u001b[0;32m    379\u001b[0m               \u001b[0mstr\u001b[0m\u001b[1;33m(\u001b[0m\u001b[0mself\u001b[0m\u001b[1;33m.\u001b[0m\u001b[0msignature\u001b[0m\u001b[1;33m.\u001b[0m\u001b[0mname\u001b[0m\u001b[1;33m)\u001b[0m\u001b[1;33m,\u001b[0m\u001b[1;33m\u001b[0m\u001b[1;33m\u001b[0m\u001b[0m\n\u001b[0;32m    380\u001b[0m               \u001b[0mnum_outputs\u001b[0m\u001b[1;33m=\u001b[0m\u001b[0mself\u001b[0m\u001b[1;33m.\u001b[0m\u001b[0m_num_outputs\u001b[0m\u001b[1;33m,\u001b[0m\u001b[1;33m\u001b[0m\u001b[1;33m\u001b[0m\u001b[0m\n",
      "\u001b[1;32m~\\AppData\\Roaming\\Python\\Python38\\site-packages\\tensorflow\\python\\eager\\execute.py\u001b[0m in \u001b[0;36mquick_execute\u001b[1;34m(op_name, num_outputs, inputs, attrs, ctx, name)\u001b[0m\n\u001b[0;32m     50\u001b[0m   \u001b[1;32mtry\u001b[0m\u001b[1;33m:\u001b[0m\u001b[1;33m\u001b[0m\u001b[1;33m\u001b[0m\u001b[0m\n\u001b[0;32m     51\u001b[0m     \u001b[0mctx\u001b[0m\u001b[1;33m.\u001b[0m\u001b[0mensure_initialized\u001b[0m\u001b[1;33m(\u001b[0m\u001b[1;33m)\u001b[0m\u001b[1;33m\u001b[0m\u001b[1;33m\u001b[0m\u001b[0m\n\u001b[1;32m---> 52\u001b[1;33m     tensors = pywrap_tfe.TFE_Py_Execute(ctx._handle, device_name, op_name,\n\u001b[0m\u001b[0;32m     53\u001b[0m                                         inputs, attrs, num_outputs)\n\u001b[0;32m     54\u001b[0m   \u001b[1;32mexcept\u001b[0m \u001b[0mcore\u001b[0m\u001b[1;33m.\u001b[0m\u001b[0m_NotOkStatusException\u001b[0m \u001b[1;32mas\u001b[0m \u001b[0me\u001b[0m\u001b[1;33m:\u001b[0m\u001b[1;33m\u001b[0m\u001b[1;33m\u001b[0m\u001b[0m\n",
      "\u001b[1;31mKeyboardInterrupt\u001b[0m: "
     ]
    }
   ],
   "source": [
    "history = model_219.fit(dataset, epochs=EPOCHS, callbacks=[checkpoint_callback])"
   ]
  },
  {
   "cell_type": "code",
   "execution_count": null,
   "id": "478151fa-20c0-4be7-ba1c-a7ded2842c4f",
   "metadata": {},
   "outputs": [],
   "source": []
  }
 ],
 "metadata": {
  "kernelspec": {
   "display_name": "Python 3",
   "language": "python",
   "name": "python3"
  },
  "language_info": {
   "codemirror_mode": {
    "name": "ipython",
    "version": 3
   },
   "file_extension": ".py",
   "mimetype": "text/x-python",
   "name": "python",
   "nbconvert_exporter": "python",
   "pygments_lexer": "ipython3",
   "version": "3.8.8"
  }
 },
 "nbformat": 4,
 "nbformat_minor": 5
}
